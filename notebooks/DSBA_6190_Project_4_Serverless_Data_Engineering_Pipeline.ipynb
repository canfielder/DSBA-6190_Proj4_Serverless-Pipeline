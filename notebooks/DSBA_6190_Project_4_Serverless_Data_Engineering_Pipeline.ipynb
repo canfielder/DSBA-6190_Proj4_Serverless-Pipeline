{
  "nbformat": 4,
  "nbformat_minor": 0,
  "metadata": {
    "colab": {
      "name": "DSBA-6190_Project-4_Serverless-Data-Engineering-Pipeline.ipynb",
      "provenance": [],
      "collapsed_sections": [],
      "toc_visible": true,
      "authorship_tag": "ABX9TyOMwPifPU1/ftR4QLCQD2A5",
      "include_colab_link": true
    },
    "kernelspec": {
      "name": "python3",
      "display_name": "Python 3"
    }
  },
  "cells": [
    {
      "cell_type": "markdown",
      "metadata": {
        "id": "view-in-github",
        "colab_type": "text"
      },
      "source": [
        "<a href=\"https://colab.research.google.com/github/canfielder/DSBA-6190_Proj4_Serverless-Pipeline/blob/master/notebooks/DSBA_6190_Project_4_Serverless_Data_Engineering_Pipeline.ipynb\" target=\"_parent\"><img src=\"https://colab.research.google.com/assets/colab-badge.svg\" alt=\"Open In Colab\"/></a>"
      ]
    },
    {
      "cell_type": "markdown",
      "metadata": {
        "id": "E6_N8EImeZN-",
        "colab_type": "text"
      },
      "source": [
        "# Import"
      ]
    },
    {
      "cell_type": "markdown",
      "metadata": {
        "id": "9-mT8hJCg47z",
        "colab_type": "text"
      },
      "source": [
        "## Installs"
      ]
    },
    {
      "cell_type": "code",
      "metadata": {
        "id": "xGM8wWbRg5KL",
        "colab_type": "code",
        "colab": {}
      },
      "source": [
        "# Boto3\n",
        "!pip -q install boto3"
      ],
      "execution_count": 0,
      "outputs": []
    },
    {
      "cell_type": "markdown",
      "metadata": {
        "id": "v0U3U9zVgyk2",
        "colab_type": "text"
      },
      "source": [
        "## Packages"
      ]
    },
    {
      "cell_type": "code",
      "metadata": {
        "id": "drjYZVWBea5x",
        "colab_type": "code",
        "colab": {}
      },
      "source": [
        "# General\n",
        "import os\n",
        "import json\n",
        "import pandas as pd\n",
        "\n",
        "\n",
        "# AWS Connection\n",
        "from google.colab import drive\n",
        "import boto3\n",
        "\n"
      ],
      "execution_count": 0,
      "outputs": []
    },
    {
      "cell_type": "markdown",
      "metadata": {
        "id": "ImKtAHlHefy0",
        "colab_type": "text"
      },
      "source": [
        "# Set Up AWS Connection"
      ]
    },
    {
      "cell_type": "markdown",
      "metadata": {
        "id": "_e6IlFYDe5Cv",
        "colab_type": "text"
      },
      "source": [
        "## Mount Google Drive\n"
      ]
    },
    {
      "cell_type": "code",
      "metadata": {
        "id": "yseGNwBUeibn",
        "colab_type": "code",
        "outputId": "e58c76c0-1f86-4010-c6df-17f79d65922d",
        "colab": {
          "base_uri": "https://localhost:8080/",
          "height": 122
        }
      },
      "source": [
        "drive.mount('/content/gdrive', force_remount=True)"
      ],
      "execution_count": 3,
      "outputs": [
        {
          "output_type": "stream",
          "text": [
            "Go to this URL in a browser: https://accounts.google.com/o/oauth2/auth?client_id=947318989803-6bn6qk8qdgf4n4g3pfee6491hc0brc4i.apps.googleusercontent.com&redirect_uri=urn%3aietf%3awg%3aoauth%3a2.0%3aoob&response_type=code&scope=email%20https%3a%2f%2fwww.googleapis.com%2fauth%2fdocs.test%20https%3a%2f%2fwww.googleapis.com%2fauth%2fdrive%20https%3a%2f%2fwww.googleapis.com%2fauth%2fdrive.photos.readonly%20https%3a%2f%2fwww.googleapis.com%2fauth%2fpeopleapi.readonly\n",
            "\n",
            "Enter your authorization code:\n",
            "··········\n",
            "Mounted at /content/gdrive\n"
          ],
          "name": "stdout"
        }
      ]
    },
    {
      "cell_type": "markdown",
      "metadata": {
        "id": "E5VgEkORe8uT",
        "colab_type": "text"
      },
      "source": [
        "Now we verify we can access AWS Credentials. We will the AWS credentials from my personal Google Drive and into the appropriate local folder."
      ]
    },
    {
      "cell_type": "code",
      "metadata": {
        "id": "TgYDEP6Qe37G",
        "colab_type": "code",
        "outputId": "565d6d82-2400-4ba8-8072-a3219dfab7d0",
        "colab": {
          "base_uri": "https://localhost:8080/",
          "height": 34
        }
      },
      "source": [
        "path = \"/content/gdrive/My Drive/aws/credentials/\"\n",
        "\n",
        "aws_dir = os.listdir(path)\n",
        "print(aws_dir)\n",
        "\n",
        "aws_credentials = aws_dir.pop(0)"
      ],
      "execution_count": 4,
      "outputs": [
        {
          "output_type": "stream",
          "text": [
            "['credentials']\n"
          ],
          "name": "stdout"
        }
      ]
    },
    {
      "cell_type": "markdown",
      "metadata": {
        "id": "HVIsw1_IUKMD",
        "colab_type": "text"
      },
      "source": [
        "Establish the source location of the AWS credential file."
      ]
    },
    {
      "cell_type": "code",
      "metadata": {
        "id": "kUP3ByMqhyWC",
        "colab_type": "code",
        "outputId": "c664bf5c-a81e-4f6a-e006-781f5440b76e",
        "colab": {
          "base_uri": "https://localhost:8080/",
          "height": 34
        }
      },
      "source": [
        "aws_credentials_src = os.path.join(path, aws_credentials)\n",
        "aws_credentials_src = aws_credentials_src.replace(\" \", \"\\ \")\n",
        "print(aws_credentials_src)"
      ],
      "execution_count": 5,
      "outputs": [
        {
          "output_type": "stream",
          "text": [
            "/content/gdrive/My\\ Drive/aws/credentials/credentials\n"
          ],
          "name": "stdout"
        }
      ]
    },
    {
      "cell_type": "markdown",
      "metadata": {
        "id": "v2cD_IXUUe4q",
        "colab_type": "text"
      },
      "source": [
        "Establish the destination of where to copy the AWS credential file."
      ]
    },
    {
      "cell_type": "code",
      "metadata": {
        "id": "EjiiI6mchFxB",
        "colab_type": "code",
        "outputId": "bb08db91-797e-4ed1-c11c-2d31c38d2bfb",
        "colab": {
          "base_uri": "https://localhost:8080/",
          "height": 34
        }
      },
      "source": [
        "aws_credentials_dst = \"~/.aws/credentials\"\n",
        "print(aws_credentials_dst)    "
      ],
      "execution_count": 6,
      "outputs": [
        {
          "output_type": "stream",
          "text": [
            "~/.aws/credentials\n"
          ],
          "name": "stdout"
        }
      ]
    },
    {
      "cell_type": "markdown",
      "metadata": {
        "id": "71Z_2RKNUoCW",
        "colab_type": "text"
      },
      "source": [
        "Copy the credentials from the my mounted Google Drive to the local folder."
      ]
    },
    {
      "cell_type": "code",
      "metadata": {
        "id": "3RDpIO47hS3L",
        "colab_type": "code",
        "colab": {}
      },
      "source": [
        "#!/usr/bin/env python3\n",
        "mkdir -p ~/.aws &&\\\n",
        "  cp -r {aws_credentials_src} {aws_credentials_dst} "
      ],
      "execution_count": 0,
      "outputs": []
    },
    {
      "cell_type": "markdown",
      "metadata": {
        "id": "XjxPxcPbUhqL",
        "colab_type": "text"
      },
      "source": [
        "Verify the credentials were correctly copied."
      ]
    },
    {
      "cell_type": "code",
      "metadata": {
        "id": "SDldl3MPHjnw",
        "colab_type": "code",
        "outputId": "3ee3848d-dc6b-4695-b564-81a2904f872e",
        "colab": {
          "base_uri": "https://localhost:8080/",
          "height": 34
        }
      },
      "source": [
        "#!/usr/bin/env python3\n",
        "ls -R {aws_credentials_dst}"
      ],
      "execution_count": 8,
      "outputs": [
        {
          "output_type": "stream",
          "text": [
            "/root/.aws/credentials\n"
          ],
          "name": "stdout"
        }
      ]
    },
    {
      "cell_type": "markdown",
      "metadata": {
        "id": "8PsxUy1gFJet",
        "colab_type": "text"
      },
      "source": [
        "## API Call Test\n",
        "Test that we have access to the AWS function."
      ]
    },
    {
      "cell_type": "code",
      "metadata": {
        "id": "EyCTr44QFJmb",
        "colab_type": "code",
        "outputId": "c9b1dba5-aba8-47ee-e584-71960280743a",
        "colab": {
          "base_uri": "https://localhost:8080/",
          "height": 221
        }
      },
      "source": [
        "session = boto3.Session(profile_name='dsba_6190_proj_4', \n",
        "                        region_name=\"us-east-1\")\n",
        "comprehend = session.client(service_name='comprehend')\n",
        "text_sample = \"I hope I don't have to be quarentined.\"\n",
        "comprehend.detect_sentiment(Text=text_sample, LanguageCode='en')"
      ],
      "execution_count": 76,
      "outputs": [
        {
          "output_type": "execute_result",
          "data": {
            "text/plain": [
              "{'ResponseMetadata': {'HTTPHeaders': {'content-length': '163',\n",
              "   'content-type': 'application/x-amz-json-1.1',\n",
              "   'date': 'Sun, 15 Mar 2020 16:39:15 GMT',\n",
              "   'x-amzn-requestid': 'cb17beb0-1dfa-46f1-8f2a-fecaef7358e3'},\n",
              "  'HTTPStatusCode': 200,\n",
              "  'RequestId': 'cb17beb0-1dfa-46f1-8f2a-fecaef7358e3',\n",
              "  'RetryAttempts': 0},\n",
              " 'Sentiment': 'NEUTRAL',\n",
              " 'SentimentScore': {'Mixed': 1.1915316463273484e-05,\n",
              "  'Negative': 0.11930244415998459,\n",
              "  'Neutral': 0.44884905219078064,\n",
              "  'Positive': 0.4318366050720215}}"
            ]
          },
          "metadata": {
            "tags": []
          },
          "execution_count": 76
        }
      ]
    },
    {
      "cell_type": "markdown",
      "metadata": {
        "id": "42TAYtmkHYeI",
        "colab_type": "text"
      },
      "source": [
        "# Verify Wikipedia API\n",
        "The following code cells check values called against the Wikpedia API."
      ]
    },
    {
      "cell_type": "code",
      "metadata": {
        "id": "OUr7_vyV94qB",
        "colab_type": "code",
        "outputId": "23295d25-f7ea-4e2d-8b5f-4c02d75d0603",
        "colab": {
          "base_uri": "https://localhost:8080/",
          "height": 34
        }
      },
      "source": [
        "!pip -q install wikipedia"
      ],
      "execution_count": 10,
      "outputs": [
        {
          "output_type": "stream",
          "text": [
            "  Building wheel for wikipedia (setup.py) ... \u001b[?25l\u001b[?25hdone\n"
          ],
          "name": "stdout"
        }
      ]
    },
    {
      "cell_type": "code",
      "metadata": {
        "id": "lBbe3jB1_SPe",
        "colab_type": "code",
        "colab": {}
      },
      "source": [
        "import wikipedia"
      ],
      "execution_count": 0,
      "outputs": []
    },
    {
      "cell_type": "code",
      "metadata": {
        "id": "2L59cUcL_Whv",
        "colab_type": "code",
        "colab": {}
      },
      "source": [
        "def wiki_summary(entry):\n",
        "  return wikipedia.summary(entry)"
      ],
      "execution_count": 0,
      "outputs": []
    },
    {
      "cell_type": "code",
      "metadata": {
        "id": "ng5AS0NX_ntH",
        "colab_type": "code",
        "outputId": "9ee46e61-f850-4d39-96a0-7a450cb189a7",
        "colab": {
          "base_uri": "https://localhost:8080/",
          "height": 54
        }
      },
      "source": [
        "wiki_entry = \"Wikipedia\"\n",
        "wiki_summary(wiki_entry)"
      ],
      "execution_count": 37,
      "outputs": [
        {
          "output_type": "execute_result",
          "data": {
            "text/plain": [
              "'Wikipedia ( (listen) wik-ih-PEE-dee-ə or  (listen) wik-ee-PEE-dee-ə) is a multilingual online encyclopedia created and maintained as an open collaboration project by a community of volunteer editors using a wiki-based editing system. It is the largest and most popular general reference work on the World Wide Web, and is one of the most popular websites ranked by Alexa as of January 2020. It features exclusively free content and no commercial ads, and is owned and supported by the Wikimedia Foundation, a non-profit organization funded primarily through donations.Wikipedia was launched on January 15, 2001, by Jimmy Wales and Larry Sanger. Sanger coined its name, as a portmanteau of \"wiki\" (the Hawaiian word for \"quick\") and \"encyclopedia\". Initially an English-language encyclopedia, versions of Wikipedia in other languages were quickly developed. With at least 6,033,553 articles, the English Wikipedia is the largest of the more than 290 Wikipedia encyclopedias. Overall, Wikipedia comprises more than 40 million articles in 301 different languages and by February 2014 it had reached 18 billion page views and nearly 500 million unique visitors per month.In 2005, Nature published a peer review comparing 42 hard science articles from Encyclopædia Britannica and Wikipedia and found that Wikipedia\\'s level of accuracy approached that of Britannica, although critics suggested that it might not have fared so well in a similar study of a random sampling of all articles or one focused on social science or contentious social issues. The following year, Time magazine stated that the open-door policy of allowing anyone to edit had made Wikipedia the biggest and possibly the best encyclopedia in the world, and was a testament to the vision of Jimmy Wales.Wikipedia has been criticized for exhibiting systemic bias, for presenting a mixture of \"truth, half truth, and some falsehoods\", and for being subject to manipulation and spin in controversial topics. Wikipedia has also been criticized for gender bias, particularly on its English-language site, where the dominant majority of editors are male. However, Edit-a-thons have been held to encourage female editors and increase the coverage of women\\'s topics. Facebook announced that by 2017 it would help readers detect fake news by suggesting links to related Wikipedia articles. YouTube announced a similar plan in 2018.'"
            ]
          },
          "metadata": {
            "tags": []
          },
          "execution_count": 37
        }
      ]
    },
    {
      "cell_type": "code",
      "metadata": {
        "id": "RE8f75fV_xQ5",
        "colab_type": "code",
        "outputId": "faa09d2e-21cd-412e-92e1-54d0cf87a30a",
        "colab": {
          "base_uri": "https://localhost:8080/",
          "height": 54
        }
      },
      "source": [
        "wiki_entry = \"Vermont 100 Mile Endurance Run\"\n",
        "wiki_vermont = wiki_summary(wiki_entry)\n",
        "print(wiki_vermont)"
      ],
      "execution_count": 38,
      "outputs": [
        {
          "output_type": "stream",
          "text": [
            "The Vermont 100 Mile Endurance Run (\"Vermont 100\") is a 100-mile (162 km) long ultramarathon held annually in July at Silver Hill Meadow in West Windsor, Vermont.  It is one of the five 100-mile races that comprise the Grand Slam of Ultrarunning.  It is also the only known ultra race in the USA where entrants run alongside horses over a similar course, in a separate but simultaneous race. (Horses avoid some of the more treacherous single-track and technical trails.) The race has been held every year since 1989.\n"
          ],
          "name": "stdout"
        }
      ]
    },
    {
      "cell_type": "code",
      "metadata": {
        "id": "JuH4RDcB_5D_",
        "colab_type": "code",
        "outputId": "54806e48-d9dc-4a9e-a2d3-498aefda28c5",
        "colab": {
          "base_uri": "https://localhost:8080/",
          "height": 71
        }
      },
      "source": [
        "wiki_entry = \"Western States Endurance Run\"\n",
        "wiki_western_states = wiki_summary(wiki_entry)\n",
        "print(wiki_western_states)"
      ],
      "execution_count": 41,
      "outputs": [
        {
          "output_type": "stream",
          "text": [
            "The Western States Endurance Run, known commonly as the Western States 100, is a 100-mile (161 km) ultramarathon that takes place on California's Sierra Nevada Mountains trails each year on the last full weekend of June. The race starts at the base of the Squaw Valley ski resort and finishes at the Placer High School track in Auburn, California. The terrain is quite rugged, frequently showcasing snow on the highest passes and record hot temperatures throughout the course. Runners ascend a cumulative total of 18,090 feet (5500 m) and descend a total of 22,970 feet (7000 m) on mountain trails before reaching the finish. Because of the length, the race commences at 5 a.m. and continues through the day and into the night. Runners finishing before the 30-hour time limit for the race receive a commemorative bronze belt buckle, while runners finishing in under 24 hours receive a silver belt buckle.\n",
            "The Western States 100 is sponsored by Altra, a Utah athletic footwear company, and is one of the five 100-mile races that comprise the Grand Slam of Ultrarunning, which also includes the Old Dominion 100, Vermont 100 Mile Endurance Run, the Wasatch Front 100 Mile Endurance Run in Utah, and the Leadville Trail 100 in Colorado.\n"
          ],
          "name": "stdout"
        }
      ]
    },
    {
      "cell_type": "code",
      "metadata": {
        "id": "j6U-dVjS_-5-",
        "colab_type": "code",
        "outputId": "0bf6cbd1-6af2-4aea-9734-141755f4ce2c",
        "colab": {
          "base_uri": "https://localhost:8080/",
          "height": 34
        }
      },
      "source": [
        "wiki_entry = \"Ultra-Trail du Mont-Blanc\"\n",
        "wiki_utmb = wiki_summary(wiki_entry)\n",
        "print(wiki_utmb)"
      ],
      "execution_count": 43,
      "outputs": [
        {
          "output_type": "stream",
          "text": [
            "The Ultra-Trail du Mont-Blanc (UTMB) is a single-stage mountain ultramarathon first held in 2003. It is a race of the Ultra-Trail World Tour.\n"
          ],
          "name": "stdout"
        }
      ]
    },
    {
      "cell_type": "code",
      "metadata": {
        "id": "kUpHW0v-ASv6",
        "colab_type": "code",
        "outputId": "f9033c90-31dc-484a-8e1c-77644fe4bec4",
        "colab": {
          "base_uri": "https://localhost:8080/",
          "height": 54
        }
      },
      "source": [
        "wiki_entry = \"Leadville Trail 100\"\n",
        "wiki_leadville = wiki_summary(wiki_entry)\n",
        "print(wiki_leadville)"
      ],
      "execution_count": 42,
      "outputs": [
        {
          "output_type": "stream",
          "text": [
            "The Leadville Trail 100 Run (aka The Race Across The Sky or the LT100) is an ultramarathon held annually on rugged trails and dirt roads near Leadville, Colorado, through the heart of the Rocky Mountains. First run in 1983, the race course climbs and descends 15,600 feet (4,800 m), with elevations ranging from 9,200-12,620 feet (2,800-3,850 m). In most years, fewer than half the starters complete the race within the 30-hour time limit.\n"
          ],
          "name": "stdout"
        }
      ]
    },
    {
      "cell_type": "code",
      "metadata": {
        "id": "vVnOxv5wAXGI",
        "colab_type": "code",
        "outputId": "ee8ccec6-01ce-41a5-b791-5189e8081a8f",
        "colab": {
          "base_uri": "https://localhost:8080/",
          "height": 54
        }
      },
      "source": [
        "wiki_entry = \"Hardrock Hundred Mile Endurance Run\"\n",
        "wiki_hardrock = wiki_summary(wiki_entry)\n",
        "print(wiki_hardrock)"
      ],
      "execution_count": 45,
      "outputs": [
        {
          "output_type": "stream",
          "text": [
            "The Hardrock Hundred Mile Endurance Run is an ultramarathon 100.5 miles (161.7 km) in length, with 33,000 feet (10,000 m) of climb at an average elevation of over 11,000 feet (3,400 m). The race is held on a loop course on 4WD roads, dirt trails, and cross country in Southern Colorado's San Juan Range, USA.  The race is dedicated to the memory of the miners who settled in the area and who built the mining trails on which much of the race is run. The race is directed by Dale Garland.\n"
          ],
          "name": "stdout"
        }
      ]
    },
    {
      "cell_type": "code",
      "metadata": {
        "id": "5DJiDp1mAcCc",
        "colab_type": "code",
        "outputId": "9362bdfa-f709-46a5-f2d7-15a2d1d1cc1c",
        "colab": {
          "base_uri": "https://localhost:8080/",
          "height": 54
        }
      },
      "source": [
        "wiki_entry = \"Barkley Marathons\"\n",
        "wiki_barkley_marathons = wiki_summary(wiki_entry)\n",
        "print(wiki_barkley_marathons)"
      ],
      "execution_count": 47,
      "outputs": [
        {
          "output_type": "stream",
          "text": [
            "The Barkley Marathons is an ultramarathon trail race held in Frozen Head State Park near Wartburg, Tennessee. If runners complete 60 miles (97 km) this is known as a \"fun run\". The full course is 100 miles (160 km) (distances are approximate). The race is limited to a 60-hour period,  and takes place in late March or early April of each year.\n"
          ],
          "name": "stdout"
        }
      ]
    },
    {
      "cell_type": "markdown",
      "metadata": {
        "id": "VN-SNeHi0API",
        "colab_type": "text"
      },
      "source": [
        "# AWS Comprehend Testing"
      ]
    },
    {
      "cell_type": "markdown",
      "metadata": {
        "id": "jJ0kvMs2664k",
        "colab_type": "text"
      },
      "source": [
        "## Detect Sentiment"
      ]
    },
    {
      "cell_type": "code",
      "metadata": {
        "id": "EcuhwBHe1u6m",
        "colab_type": "code",
        "colab": {
          "base_uri": "https://localhost:8080/",
          "height": 221
        },
        "outputId": "f136cc69-48c1-4f70-a824-b7663986a27d"
      },
      "source": [
        "comprehend.detect_sentiment(Text=wiki_barkley_marathons, LanguageCode='en')"
      ],
      "execution_count": 48,
      "outputs": [
        {
          "output_type": "execute_result",
          "data": {
            "text/plain": [
              "{'ResponseMetadata': {'HTTPHeaders': {'content-length': '162',\n",
              "   'content-type': 'application/x-amz-json-1.1',\n",
              "   'date': 'Sun, 15 Mar 2020 15:52:16 GMT',\n",
              "   'x-amzn-requestid': 'e80d15b9-f2ff-41fa-a85c-c027716a3512'},\n",
              "  'HTTPStatusCode': 200,\n",
              "  'RequestId': 'e80d15b9-f2ff-41fa-a85c-c027716a3512',\n",
              "  'RetryAttempts': 0},\n",
              " 'Sentiment': 'NEUTRAL',\n",
              " 'SentimentScore': {'Mixed': 1.324443815065024e-06,\n",
              "  'Negative': 0.000236633321037516,\n",
              "  'Neutral': 0.9850009679794312,\n",
              "  'Positive': 0.01476116944104433}}"
            ]
          },
          "metadata": {
            "tags": []
          },
          "execution_count": 48
        }
      ]
    },
    {
      "cell_type": "markdown",
      "metadata": {
        "id": "99i1A48F69zM",
        "colab_type": "text"
      },
      "source": [
        "## Entity Recognition"
      ]
    },
    {
      "cell_type": "code",
      "metadata": {
        "id": "WQhg425N72O4",
        "colab_type": "code",
        "colab": {}
      },
      "source": [
        "def create_entity(input_str):\n",
        "  comprehend = session.client(service_name='comprehend')\n",
        "  payload = comprehend.detect_entities(Text = input_str, LanguageCode = 'en')\n",
        "  entity = payload['Entities']\n",
        "  return entity"
      ],
      "execution_count": 0,
      "outputs": []
    },
    {
      "cell_type": "code",
      "metadata": {
        "id": "bQAdBxRkAVN4",
        "colab_type": "code",
        "colab": {
          "base_uri": "https://localhost:8080/",
          "height": 54
        },
        "outputId": "720a0850-d3bb-428e-be2f-d4d2d50c2954"
      },
      "source": [
        "payload = comprehend.detect_entities(Text = wiki_barkley_marathons, LanguageCode = 'en')\n",
        "print(payload)"
      ],
      "execution_count": 78,
      "outputs": [
        {
          "output_type": "stream",
          "text": [
            "{'Entities': [{'Score': 0.5920814275741577, 'Type': 'ORGANIZATION', 'Text': 'Barkley Marathons', 'BeginOffset': 4, 'EndOffset': 21}, {'Score': 0.9992262721061707, 'Type': 'LOCATION', 'Text': 'Frozen Head State Park', 'BeginOffset': 61, 'EndOffset': 83}, {'Score': 0.9535569548606873, 'Type': 'LOCATION', 'Text': 'Wartburg, Tennessee', 'BeginOffset': 89, 'EndOffset': 108}, {'Score': 0.9999343156814575, 'Type': 'QUANTITY', 'Text': '60 miles', 'BeginOffset': 130, 'EndOffset': 138}, {'Score': 0.9998589158058167, 'Type': 'QUANTITY', 'Text': '97 km', 'BeginOffset': 140, 'EndOffset': 145}, {'Score': 0.9999101161956787, 'Type': 'QUANTITY', 'Text': '100 miles', 'BeginOffset': 196, 'EndOffset': 205}, {'Score': 0.9996023774147034, 'Type': 'QUANTITY', 'Text': '160 km', 'BeginOffset': 207, 'EndOffset': 213}, {'Score': 0.9994187951087952, 'Type': 'QUANTITY', 'Text': '60-hour', 'BeginOffset': 269, 'EndOffset': 276}, {'Score': 0.9909129738807678, 'Type': 'DATE', 'Text': 'late March', 'BeginOffset': 305, 'EndOffset': 315}, {'Score': 0.9803012013435364, 'Type': 'DATE', 'Text': 'early April', 'BeginOffset': 319, 'EndOffset': 330}, {'Score': 0.9783985614776611, 'Type': 'QUANTITY', 'Text': 'each year', 'BeginOffset': 334, 'EndOffset': 343}], 'ResponseMetadata': {'RequestId': '2d4817cf-6e8a-4952-8250-45510406f452', 'HTTPStatusCode': 200, 'HTTPHeaders': {'x-amzn-requestid': '2d4817cf-6e8a-4952-8250-45510406f452', 'content-type': 'application/x-amz-json-1.1', 'content-length': '1128', 'date': 'Sun, 15 Mar 2020 16:39:31 GMT'}, 'RetryAttempts': 0}}\n"
          ],
          "name": "stdout"
        }
      ]
    },
    {
      "cell_type": "code",
      "metadata": {
        "id": "mjt3EMH8AZpO",
        "colab_type": "code",
        "colab": {
          "base_uri": "https://localhost:8080/",
          "height": 54
        },
        "outputId": "423d53e8-6fa3-461b-fed1-2b8073ededcd"
      },
      "source": [
        "entity = payload['Entities']\n",
        "print(entity)"
      ],
      "execution_count": 79,
      "outputs": [
        {
          "output_type": "stream",
          "text": [
            "[{'Score': 0.5920814275741577, 'Type': 'ORGANIZATION', 'Text': 'Barkley Marathons', 'BeginOffset': 4, 'EndOffset': 21}, {'Score': 0.9992262721061707, 'Type': 'LOCATION', 'Text': 'Frozen Head State Park', 'BeginOffset': 61, 'EndOffset': 83}, {'Score': 0.9535569548606873, 'Type': 'LOCATION', 'Text': 'Wartburg, Tennessee', 'BeginOffset': 89, 'EndOffset': 108}, {'Score': 0.9999343156814575, 'Type': 'QUANTITY', 'Text': '60 miles', 'BeginOffset': 130, 'EndOffset': 138}, {'Score': 0.9998589158058167, 'Type': 'QUANTITY', 'Text': '97 km', 'BeginOffset': 140, 'EndOffset': 145}, {'Score': 0.9999101161956787, 'Type': 'QUANTITY', 'Text': '100 miles', 'BeginOffset': 196, 'EndOffset': 205}, {'Score': 0.9996023774147034, 'Type': 'QUANTITY', 'Text': '160 km', 'BeginOffset': 207, 'EndOffset': 213}, {'Score': 0.9994187951087952, 'Type': 'QUANTITY', 'Text': '60-hour', 'BeginOffset': 269, 'EndOffset': 276}, {'Score': 0.9909129738807678, 'Type': 'DATE', 'Text': 'late March', 'BeginOffset': 305, 'EndOffset': 315}, {'Score': 0.9803012013435364, 'Type': 'DATE', 'Text': 'early April', 'BeginOffset': 319, 'EndOffset': 330}, {'Score': 0.9783985614776611, 'Type': 'QUANTITY', 'Text': 'each year', 'BeginOffset': 334, 'EndOffset': 343}]\n"
          ],
          "name": "stdout"
        }
      ]
    },
    {
      "cell_type": "code",
      "metadata": {
        "id": "lxGmLIDW-Szu",
        "colab_type": "code",
        "colab": {
          "base_uri": "https://localhost:8080/",
          "height": 952
        },
        "outputId": "a5cc05cd-26c4-46a6-f114-2e77fb0679d6"
      },
      "source": [
        "entity_dict = create_entity(wiki_barkley_marathons)\n",
        "entity_dict"
      ],
      "execution_count": 162,
      "outputs": [
        {
          "output_type": "execute_result",
          "data": {
            "text/plain": [
              "[{'BeginOffset': 4,\n",
              "  'EndOffset': 21,\n",
              "  'Score': 0.5920814275741577,\n",
              "  'Text': 'Barkley Marathons',\n",
              "  'Type': 'ORGANIZATION'},\n",
              " {'BeginOffset': 61,\n",
              "  'EndOffset': 83,\n",
              "  'Score': 0.9992262721061707,\n",
              "  'Text': 'Frozen Head State Park',\n",
              "  'Type': 'LOCATION'},\n",
              " {'BeginOffset': 89,\n",
              "  'EndOffset': 108,\n",
              "  'Score': 0.9535569548606873,\n",
              "  'Text': 'Wartburg, Tennessee',\n",
              "  'Type': 'LOCATION'},\n",
              " {'BeginOffset': 130,\n",
              "  'EndOffset': 138,\n",
              "  'Score': 0.9999343156814575,\n",
              "  'Text': '60 miles',\n",
              "  'Type': 'QUANTITY'},\n",
              " {'BeginOffset': 140,\n",
              "  'EndOffset': 145,\n",
              "  'Score': 0.9998589158058167,\n",
              "  'Text': '97 km',\n",
              "  'Type': 'QUANTITY'},\n",
              " {'BeginOffset': 196,\n",
              "  'EndOffset': 205,\n",
              "  'Score': 0.9999101161956787,\n",
              "  'Text': '100 miles',\n",
              "  'Type': 'QUANTITY'},\n",
              " {'BeginOffset': 207,\n",
              "  'EndOffset': 213,\n",
              "  'Score': 0.9996023774147034,\n",
              "  'Text': '160 km',\n",
              "  'Type': 'QUANTITY'},\n",
              " {'BeginOffset': 269,\n",
              "  'EndOffset': 276,\n",
              "  'Score': 0.9994187951087952,\n",
              "  'Text': '60-hour',\n",
              "  'Type': 'QUANTITY'},\n",
              " {'BeginOffset': 305,\n",
              "  'EndOffset': 315,\n",
              "  'Score': 0.9909129738807678,\n",
              "  'Text': 'late March',\n",
              "  'Type': 'DATE'},\n",
              " {'BeginOffset': 319,\n",
              "  'EndOffset': 330,\n",
              "  'Score': 0.9803012013435364,\n",
              "  'Text': 'early April',\n",
              "  'Type': 'DATE'},\n",
              " {'BeginOffset': 334,\n",
              "  'EndOffset': 343,\n",
              "  'Score': 0.9783985614776611,\n",
              "  'Text': 'each year',\n",
              "  'Type': 'QUANTITY'}]"
            ]
          },
          "metadata": {
            "tags": []
          },
          "execution_count": 162
        }
      ]
    },
    {
      "cell_type": "code",
      "metadata": {
        "id": "kH22rIrbLVoo",
        "colab_type": "code",
        "colab": {
          "base_uri": "https://localhost:8080/",
          "height": 390
        },
        "outputId": "6c7691df-f1e0-4385-edc1-0d5fadfcf794"
      },
      "source": [
        "df = pd.DataFrame.from_dict(entity_dict)\n",
        "df.columns\n",
        "df = df[['Text', 'Type', 'Score', 'BeginOffset', 'EndOffset']]\n",
        "df"
      ],
      "execution_count": 170,
      "outputs": [
        {
          "output_type": "execute_result",
          "data": {
            "text/html": [
              "<div>\n",
              "<style scoped>\n",
              "    .dataframe tbody tr th:only-of-type {\n",
              "        vertical-align: middle;\n",
              "    }\n",
              "\n",
              "    .dataframe tbody tr th {\n",
              "        vertical-align: top;\n",
              "    }\n",
              "\n",
              "    .dataframe thead th {\n",
              "        text-align: right;\n",
              "    }\n",
              "</style>\n",
              "<table border=\"1\" class=\"dataframe\">\n",
              "  <thead>\n",
              "    <tr style=\"text-align: right;\">\n",
              "      <th></th>\n",
              "      <th>Text</th>\n",
              "      <th>Type</th>\n",
              "      <th>Score</th>\n",
              "      <th>BeginOffset</th>\n",
              "      <th>EndOffset</th>\n",
              "    </tr>\n",
              "  </thead>\n",
              "  <tbody>\n",
              "    <tr>\n",
              "      <th>0</th>\n",
              "      <td>Barkley Marathons</td>\n",
              "      <td>ORGANIZATION</td>\n",
              "      <td>0.592081</td>\n",
              "      <td>4</td>\n",
              "      <td>21</td>\n",
              "    </tr>\n",
              "    <tr>\n",
              "      <th>1</th>\n",
              "      <td>Frozen Head State Park</td>\n",
              "      <td>LOCATION</td>\n",
              "      <td>0.999226</td>\n",
              "      <td>61</td>\n",
              "      <td>83</td>\n",
              "    </tr>\n",
              "    <tr>\n",
              "      <th>2</th>\n",
              "      <td>Wartburg, Tennessee</td>\n",
              "      <td>LOCATION</td>\n",
              "      <td>0.953557</td>\n",
              "      <td>89</td>\n",
              "      <td>108</td>\n",
              "    </tr>\n",
              "    <tr>\n",
              "      <th>3</th>\n",
              "      <td>60 miles</td>\n",
              "      <td>QUANTITY</td>\n",
              "      <td>0.999934</td>\n",
              "      <td>130</td>\n",
              "      <td>138</td>\n",
              "    </tr>\n",
              "    <tr>\n",
              "      <th>4</th>\n",
              "      <td>97 km</td>\n",
              "      <td>QUANTITY</td>\n",
              "      <td>0.999859</td>\n",
              "      <td>140</td>\n",
              "      <td>145</td>\n",
              "    </tr>\n",
              "    <tr>\n",
              "      <th>5</th>\n",
              "      <td>100 miles</td>\n",
              "      <td>QUANTITY</td>\n",
              "      <td>0.999910</td>\n",
              "      <td>196</td>\n",
              "      <td>205</td>\n",
              "    </tr>\n",
              "    <tr>\n",
              "      <th>6</th>\n",
              "      <td>160 km</td>\n",
              "      <td>QUANTITY</td>\n",
              "      <td>0.999602</td>\n",
              "      <td>207</td>\n",
              "      <td>213</td>\n",
              "    </tr>\n",
              "    <tr>\n",
              "      <th>7</th>\n",
              "      <td>60-hour</td>\n",
              "      <td>QUANTITY</td>\n",
              "      <td>0.999419</td>\n",
              "      <td>269</td>\n",
              "      <td>276</td>\n",
              "    </tr>\n",
              "    <tr>\n",
              "      <th>8</th>\n",
              "      <td>late March</td>\n",
              "      <td>DATE</td>\n",
              "      <td>0.990913</td>\n",
              "      <td>305</td>\n",
              "      <td>315</td>\n",
              "    </tr>\n",
              "    <tr>\n",
              "      <th>9</th>\n",
              "      <td>early April</td>\n",
              "      <td>DATE</td>\n",
              "      <td>0.980301</td>\n",
              "      <td>319</td>\n",
              "      <td>330</td>\n",
              "    </tr>\n",
              "    <tr>\n",
              "      <th>10</th>\n",
              "      <td>each year</td>\n",
              "      <td>QUANTITY</td>\n",
              "      <td>0.978399</td>\n",
              "      <td>334</td>\n",
              "      <td>343</td>\n",
              "    </tr>\n",
              "  </tbody>\n",
              "</table>\n",
              "</div>"
            ],
            "text/plain": [
              "                      Text          Type     Score  BeginOffset  EndOffset\n",
              "0        Barkley Marathons  ORGANIZATION  0.592081            4         21\n",
              "1   Frozen Head State Park      LOCATION  0.999226           61         83\n",
              "2      Wartburg, Tennessee      LOCATION  0.953557           89        108\n",
              "3                 60 miles      QUANTITY  0.999934          130        138\n",
              "4                    97 km      QUANTITY  0.999859          140        145\n",
              "5                100 miles      QUANTITY  0.999910          196        205\n",
              "6                   160 km      QUANTITY  0.999602          207        213\n",
              "7                  60-hour      QUANTITY  0.999419          269        276\n",
              "8               late March          DATE  0.990913          305        315\n",
              "9              early April          DATE  0.980301          319        330\n",
              "10               each year      QUANTITY  0.978399          334        343"
            ]
          },
          "metadata": {
            "tags": []
          },
          "execution_count": 170
        }
      ]
    },
    {
      "cell_type": "markdown",
      "metadata": {
        "id": "GdfF73AbBpaB",
        "colab_type": "text"
      },
      "source": [
        "# Lambda Function Test"
      ]
    },
    {
      "cell_type": "markdown",
      "metadata": {
        "id": "7B6vl2j2H6Mq",
        "colab_type": "text"
      },
      "source": [
        "## Process Payload"
      ]
    },
    {
      "cell_type": "markdown",
      "metadata": {
        "id": "iPqB5Ci1IBY2",
        "colab_type": "text"
      },
      "source": [
        "The following payload is an example event."
      ]
    },
    {
      "cell_type": "code",
      "metadata": {
        "id": "-b7I-o8iH9C7",
        "colab_type": "code",
        "colab": {}
      },
      "source": [
        "payload = {\n",
        "  \"Records\": [\n",
        "    {\n",
        "      \"messageId\": \"19dd0b57-b21e-4ac1-bd88-01bbb068cb78\",\n",
        "      \"receiptHandle\": \"MessageReceiptHandle\",\n",
        "      \"body\": {\n",
        "          \"Races\": \"Western States Endurance Run\"\n",
        "      },\n",
        "      \"attributes\": {\n",
        "        \"ApproximateReceiveCount\": \"1\",\n",
        "        \"SentTimestamp\": \"1523232000000\",\n",
        "        \"SenderId\": \"123456789012\",\n",
        "        \"ApproximateFirstReceiveTimestamp\": \"1523232000001\"\n",
        "      },\n",
        "      \"messageAttributes\": {},\n",
        "      \"md5OfBody\": \"7b270e59b47ff90a553787216d55d91d\",\n",
        "      \"eventSource\": \"aws:sqs\",\n",
        "      \"eventSourceARN\": \"arn:aws:sqs:us-east-1:123456789012:MyQueue\",\n",
        "      \"awsRegion\": \"us-east-1\"\n",
        "    }\n",
        "  ]\n",
        "}"
      ],
      "execution_count": 0,
      "outputs": []
    },
    {
      "cell_type": "code",
      "metadata": {
        "id": "SlD-P9cCIM15",
        "colab_type": "code",
        "colab": {
          "base_uri": "https://localhost:8080/",
          "height": 34
        },
        "outputId": "d14d741d-f983-4edb-c95d-65d881318403"
      },
      "source": [
        "races = []\n",
        "record = payload['Records']\n",
        "body = record[0]['body']\n",
        "race_name = body['Races']\n",
        "races.append(race_name)\n"
      ],
      "execution_count": 148,
      "outputs": [
        {
          "output_type": "execute_result",
          "data": {
            "text/plain": [
              "['Western States Endurance Run']"
            ]
          },
          "metadata": {
            "tags": []
          },
          "execution_count": 148
        }
      ]
    },
    {
      "cell_type": "markdown",
      "metadata": {
        "id": "NgRgxUgHJsJN",
        "colab_type": "text"
      },
      "source": [
        "## Races to Wikipedia Entry"
      ]
    },
    {
      "cell_type": "code",
      "metadata": {
        "id": "LxDgHiVMB8Di",
        "colab_type": "code",
        "colab": {}
      },
      "source": [
        "def races_to_wikipedia(races):\n",
        "\n",
        "    wiki_entry = []\n",
        "    for race in races:\n",
        "        wiki_entry.append(wikipedia.summary(race, sentences=1))\n",
        "    race_dict = {\n",
        "            'races':race,\n",
        "            'wiki_entry': wiki_entry\n",
        "        }\n",
        "    return race_dict"
      ],
      "execution_count": 0,
      "outputs": []
    },
    {
      "cell_type": "code",
      "metadata": {
        "id": "c_wv7JZnHFlB",
        "colab_type": "code",
        "colab": {
          "base_uri": "https://localhost:8080/",
          "height": 71
        },
        "outputId": "6b7456f7-fbd1-4db9-c2c1-0d6d1667d448"
      },
      "source": [
        "race_dict = races_to_wikipedia(races)\n",
        "race_dict"
      ],
      "execution_count": 202,
      "outputs": [
        {
          "output_type": "execute_result",
          "data": {
            "text/plain": [
              "{'races': 'Western States Endurance Run',\n",
              " 'wiki_entry': [\"The Western States Endurance Run, known commonly as the Western States 100, is a 100-mile (161 km) ultramarathon that takes place on California's Sierra Nevada Mountains trails each year on the last full weekend of June.\"]}"
            ]
          },
          "metadata": {
            "tags": []
          },
          "execution_count": 202
        }
      ]
    },
    {
      "cell_type": "markdown",
      "metadata": {
        "id": "3ItfWMQiJt3o",
        "colab_type": "text"
      },
      "source": [
        "## Apply Entity"
      ]
    },
    {
      "cell_type": "code",
      "metadata": {
        "id": "9wtZZabwJybv",
        "colab_type": "code",
        "colab": {}
      },
      "source": [
        "def apply_entity(race_dict, key ='wiki_entry'):\n",
        "    \"\"\"Uses Pandas Apply to Create Entity Analysis\"\"\"\n",
        "\n",
        "    race_dict['Entity'] = create_entity(race_dict[key][0])\n",
        "\n",
        "    return race_dict"
      ],
      "execution_count": 0,
      "outputs": []
    },
    {
      "cell_type": "code",
      "metadata": {
        "id": "0FER7uH-KKue",
        "colab_type": "code",
        "colab": {
          "base_uri": "https://localhost:8080/",
          "height": 751
        },
        "outputId": "fe9bb882-1aad-4283-9647-8e38a3e3a482"
      },
      "source": [
        "race_dict = apply_entity(race_dict)\n",
        "race_dict"
      ],
      "execution_count": 204,
      "outputs": [
        {
          "output_type": "execute_result",
          "data": {
            "text/plain": [
              "{'Entity': [{'BeginOffset': 4,\n",
              "   'EndOffset': 32,\n",
              "   'Score': 0.9937021136283875,\n",
              "   'Text': 'Western States Endurance Run',\n",
              "   'Type': 'EVENT'},\n",
              "  {'BeginOffset': 56,\n",
              "   'EndOffset': 74,\n",
              "   'Score': 0.9960070848464966,\n",
              "   'Text': 'Western States 100',\n",
              "   'Type': 'EVENT'},\n",
              "  {'BeginOffset': 81,\n",
              "   'EndOffset': 89,\n",
              "   'Score': 0.999893844127655,\n",
              "   'Text': '100-mile',\n",
              "   'Type': 'QUANTITY'},\n",
              "  {'BeginOffset': 91,\n",
              "   'EndOffset': 97,\n",
              "   'Score': 0.9989891052246094,\n",
              "   'Text': '161 km',\n",
              "   'Type': 'QUANTITY'},\n",
              "  {'BeginOffset': 133,\n",
              "   'EndOffset': 143,\n",
              "   'Score': 0.9979168772697449,\n",
              "   'Text': 'California',\n",
              "   'Type': 'LOCATION'},\n",
              "  {'BeginOffset': 146,\n",
              "   'EndOffset': 169,\n",
              "   'Score': 0.9861451387405396,\n",
              "   'Text': 'Sierra Nevada Mountains',\n",
              "   'Type': 'LOCATION'},\n",
              "  {'BeginOffset': 177,\n",
              "   'EndOffset': 186,\n",
              "   'Score': 0.9886414408683777,\n",
              "   'Text': 'each year',\n",
              "   'Type': 'QUANTITY'},\n",
              "  {'BeginOffset': 194,\n",
              "   'EndOffset': 219,\n",
              "   'Score': 0.899183988571167,\n",
              "   'Text': 'last full weekend of June',\n",
              "   'Type': 'DATE'}],\n",
              " 'races': 'Western States Endurance Run',\n",
              " 'wiki_entry': [\"The Western States Endurance Run, known commonly as the Western States 100, is a 100-mile (161 km) ultramarathon that takes place on California's Sierra Nevada Mountains trails each year on the last full weekend of June.\"]}"
            ]
          },
          "metadata": {
            "tags": []
          },
          "execution_count": 204
        }
      ]
    },
    {
      "cell_type": "code",
      "metadata": {
        "id": "aaRoBAQ2PQH0",
        "colab_type": "code",
        "colab": {
          "base_uri": "https://localhost:8080/",
          "height": 34
        },
        "outputId": "c5a94cf9-2704-4f8d-a0f6-664af15d8bc5"
      },
      "source": [
        "type(race_dict['Entity'])"
      ],
      "execution_count": 206,
      "outputs": [
        {
          "output_type": "execute_result",
          "data": {
            "text/plain": [
              "list"
            ]
          },
          "metadata": {
            "tags": []
          },
          "execution_count": 206
        }
      ]
    },
    {
      "cell_type": "code",
      "metadata": {
        "id": "TP4MIKObPCci",
        "colab_type": "code",
        "colab": {
          "base_uri": "https://localhost:8080/",
          "height": 697
        },
        "outputId": "d89c8335-a6be-42f7-a5ab-4f6e04425580"
      },
      "source": [
        "race_dict['Entity']"
      ],
      "execution_count": 208,
      "outputs": [
        {
          "output_type": "execute_result",
          "data": {
            "text/plain": [
              "[{'BeginOffset': 4,\n",
              "  'EndOffset': 32,\n",
              "  'Score': 0.9937021136283875,\n",
              "  'Text': 'Western States Endurance Run',\n",
              "  'Type': 'EVENT'},\n",
              " {'BeginOffset': 56,\n",
              "  'EndOffset': 74,\n",
              "  'Score': 0.9960070848464966,\n",
              "  'Text': 'Western States 100',\n",
              "  'Type': 'EVENT'},\n",
              " {'BeginOffset': 81,\n",
              "  'EndOffset': 89,\n",
              "  'Score': 0.999893844127655,\n",
              "  'Text': '100-mile',\n",
              "  'Type': 'QUANTITY'},\n",
              " {'BeginOffset': 91,\n",
              "  'EndOffset': 97,\n",
              "  'Score': 0.9989891052246094,\n",
              "  'Text': '161 km',\n",
              "  'Type': 'QUANTITY'},\n",
              " {'BeginOffset': 133,\n",
              "  'EndOffset': 143,\n",
              "  'Score': 0.9979168772697449,\n",
              "  'Text': 'California',\n",
              "  'Type': 'LOCATION'},\n",
              " {'BeginOffset': 146,\n",
              "  'EndOffset': 169,\n",
              "  'Score': 0.9861451387405396,\n",
              "  'Text': 'Sierra Nevada Mountains',\n",
              "  'Type': 'LOCATION'},\n",
              " {'BeginOffset': 177,\n",
              "  'EndOffset': 186,\n",
              "  'Score': 0.9886414408683777,\n",
              "  'Text': 'each year',\n",
              "  'Type': 'QUANTITY'},\n",
              " {'BeginOffset': 194,\n",
              "  'EndOffset': 219,\n",
              "  'Score': 0.899183988571167,\n",
              "  'Text': 'last full weekend of June',\n",
              "  'Type': 'DATE'}]"
            ]
          },
          "metadata": {
            "tags": []
          },
          "execution_count": 208
        }
      ]
    },
    {
      "cell_type": "code",
      "metadata": {
        "id": "LoxcEwFDM8Lf",
        "colab_type": "code",
        "colab": {
          "base_uri": "https://localhost:8080/",
          "height": 297
        },
        "outputId": "6aec7bd8-4915-4dcf-a04b-4e3510c1f4ad"
      },
      "source": [
        "df = pd.DataFrame.from_dict(race_dict['Entity'])\n",
        "df = df[['Text', 'Type', 'Score', 'BeginOffset','EndOffset']]\n",
        "df"
      ],
      "execution_count": 217,
      "outputs": [
        {
          "output_type": "execute_result",
          "data": {
            "text/html": [
              "<div>\n",
              "<style scoped>\n",
              "    .dataframe tbody tr th:only-of-type {\n",
              "        vertical-align: middle;\n",
              "    }\n",
              "\n",
              "    .dataframe tbody tr th {\n",
              "        vertical-align: top;\n",
              "    }\n",
              "\n",
              "    .dataframe thead th {\n",
              "        text-align: right;\n",
              "    }\n",
              "</style>\n",
              "<table border=\"1\" class=\"dataframe\">\n",
              "  <thead>\n",
              "    <tr style=\"text-align: right;\">\n",
              "      <th></th>\n",
              "      <th>Text</th>\n",
              "      <th>Type</th>\n",
              "      <th>Score</th>\n",
              "      <th>BeginOffset</th>\n",
              "      <th>EndOffset</th>\n",
              "    </tr>\n",
              "  </thead>\n",
              "  <tbody>\n",
              "    <tr>\n",
              "      <th>0</th>\n",
              "      <td>Western States Endurance Run</td>\n",
              "      <td>EVENT</td>\n",
              "      <td>0.993702</td>\n",
              "      <td>4</td>\n",
              "      <td>32</td>\n",
              "    </tr>\n",
              "    <tr>\n",
              "      <th>1</th>\n",
              "      <td>Western States 100</td>\n",
              "      <td>EVENT</td>\n",
              "      <td>0.996007</td>\n",
              "      <td>56</td>\n",
              "      <td>74</td>\n",
              "    </tr>\n",
              "    <tr>\n",
              "      <th>2</th>\n",
              "      <td>100-mile</td>\n",
              "      <td>QUANTITY</td>\n",
              "      <td>0.999894</td>\n",
              "      <td>81</td>\n",
              "      <td>89</td>\n",
              "    </tr>\n",
              "    <tr>\n",
              "      <th>3</th>\n",
              "      <td>161 km</td>\n",
              "      <td>QUANTITY</td>\n",
              "      <td>0.998989</td>\n",
              "      <td>91</td>\n",
              "      <td>97</td>\n",
              "    </tr>\n",
              "    <tr>\n",
              "      <th>4</th>\n",
              "      <td>California</td>\n",
              "      <td>LOCATION</td>\n",
              "      <td>0.997917</td>\n",
              "      <td>133</td>\n",
              "      <td>143</td>\n",
              "    </tr>\n",
              "    <tr>\n",
              "      <th>5</th>\n",
              "      <td>Sierra Nevada Mountains</td>\n",
              "      <td>LOCATION</td>\n",
              "      <td>0.986145</td>\n",
              "      <td>146</td>\n",
              "      <td>169</td>\n",
              "    </tr>\n",
              "    <tr>\n",
              "      <th>6</th>\n",
              "      <td>each year</td>\n",
              "      <td>QUANTITY</td>\n",
              "      <td>0.988641</td>\n",
              "      <td>177</td>\n",
              "      <td>186</td>\n",
              "    </tr>\n",
              "    <tr>\n",
              "      <th>7</th>\n",
              "      <td>last full weekend of June</td>\n",
              "      <td>DATE</td>\n",
              "      <td>0.899184</td>\n",
              "      <td>194</td>\n",
              "      <td>219</td>\n",
              "    </tr>\n",
              "  </tbody>\n",
              "</table>\n",
              "</div>"
            ],
            "text/plain": [
              "                           Text      Type     Score  BeginOffset  EndOffset\n",
              "0  Western States Endurance Run     EVENT  0.993702            4         32\n",
              "1            Western States 100     EVENT  0.996007           56         74\n",
              "2                      100-mile  QUANTITY  0.999894           81         89\n",
              "3                        161 km  QUANTITY  0.998989           91         97\n",
              "4                    California  LOCATION  0.997917          133        143\n",
              "5       Sierra Nevada Mountains  LOCATION  0.986145          146        169\n",
              "6                     each year  QUANTITY  0.988641          177        186\n",
              "7     last full weekend of June      DATE  0.899184          194        219"
            ]
          },
          "metadata": {
            "tags": []
          },
          "execution_count": 217
        }
      ]
    }
  ]
}