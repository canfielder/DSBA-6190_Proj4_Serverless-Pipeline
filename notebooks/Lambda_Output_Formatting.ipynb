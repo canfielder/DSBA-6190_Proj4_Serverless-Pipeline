{
  "nbformat": 4,
  "nbformat_minor": 0,
  "metadata": {
    "colab": {
      "name": "Lambda Output Formatting.ipynb",
      "provenance": [],
      "collapsed_sections": [],
      "toc_visible": true,
      "authorship_tag": "ABX9TyNA4atOYt4JOfII4a1Ce5Z6",
      "include_colab_link": true
    },
    "kernelspec": {
      "name": "python3",
      "display_name": "Python 3"
    }
  },
  "cells": [
    {
      "cell_type": "markdown",
      "metadata": {
        "id": "view-in-github",
        "colab_type": "text"
      },
      "source": [
        "<a href=\"https://colab.research.google.com/github/canfielder/DSBA-6190_Proj4_Serverless-Pipeline/blob/master/notebooks/Lambda_Output_Formatting.ipynb\" target=\"_parent\"><img src=\"https://colab.research.google.com/assets/colab-badge.svg\" alt=\"Open In Colab\"/></a>"
      ]
    },
    {
      "cell_type": "markdown",
      "metadata": {
        "id": "a8_JIQQPaTPd",
        "colab_type": "text"
      },
      "source": [
        "# Import"
      ]
    },
    {
      "cell_type": "markdown",
      "metadata": {
        "id": "790-f6jYascS",
        "colab_type": "text"
      },
      "source": [
        "## Install"
      ]
    },
    {
      "cell_type": "code",
      "metadata": {
        "id": "1jKp5xzCawEx",
        "colab_type": "code",
        "colab": {}
      },
      "source": [
        "!pip -q install boto3\n",
        "!pip -q install stringcase"
      ],
      "execution_count": 0,
      "outputs": []
    },
    {
      "cell_type": "markdown",
      "metadata": {
        "id": "M7Ka2B84aw1s",
        "colab_type": "text"
      },
      "source": [
        "## Packages"
      ]
    },
    {
      "cell_type": "code",
      "metadata": {
        "id": "67xXCawsaWCE",
        "colab_type": "code",
        "colab": {}
      },
      "source": [
        "# General\n",
        "import os\n",
        "import io\n",
        "import pandas as pd\n",
        "import stringcase\n",
        "from IPython.display import display, HTML\n",
        "\n",
        "# AWS Connection\n",
        "from google.colab import drive\n",
        "import boto3\n"
      ],
      "execution_count": 0,
      "outputs": []
    },
    {
      "cell_type": "markdown",
      "metadata": {
        "id": "OU91D2e8bU53",
        "colab_type": "text"
      },
      "source": [
        "# Set Up AWS Connection"
      ]
    },
    {
      "cell_type": "markdown",
      "metadata": {
        "id": "boKkDSfmbaU3",
        "colab_type": "text"
      },
      "source": [
        "## Mount Google Drive"
      ]
    },
    {
      "cell_type": "code",
      "metadata": {
        "id": "g-CuCPHYbZMl",
        "colab_type": "code",
        "outputId": "0934dc37-86da-4614-9998-242949b93623",
        "colab": {
          "base_uri": "https://localhost:8080/",
          "height": 34
        }
      },
      "source": [
        "drive.mount('/content/gdrive', force_remount=True)"
      ],
      "execution_count": 3,
      "outputs": [
        {
          "output_type": "stream",
          "text": [
            "Mounted at /content/gdrive\n"
          ],
          "name": "stdout"
        }
      ]
    },
    {
      "cell_type": "code",
      "metadata": {
        "id": "TOU3THOrbUGv",
        "colab_type": "code",
        "colab": {}
      },
      "source": [
        "path = \"/content/gdrive/My Drive/aws/credentials/\"\n",
        "\n",
        "aws_dir = os.listdir(path)\n",
        "\n",
        "aws_credentials = aws_dir.pop(0)"
      ],
      "execution_count": 0,
      "outputs": []
    },
    {
      "cell_type": "markdown",
      "metadata": {
        "id": "w5C8gU7kbpGO",
        "colab_type": "text"
      },
      "source": [
        "Establish the source location of the AWS credential file."
      ]
    },
    {
      "cell_type": "code",
      "metadata": {
        "id": "aI8ym5Ogbmc4",
        "colab_type": "code",
        "outputId": "32107f8f-4229-41f5-a41a-5fa0e2485591",
        "colab": {
          "base_uri": "https://localhost:8080/",
          "height": 34
        }
      },
      "source": [
        "aws_credentials_src = os.path.join(path, aws_credentials)\n",
        "aws_credentials_src = aws_credentials_src.replace(\" \", \"\\ \")\n",
        "print(aws_credentials_src)"
      ],
      "execution_count": 5,
      "outputs": [
        {
          "output_type": "stream",
          "text": [
            "/content/gdrive/My\\ Drive/aws/credentials/credentials\n"
          ],
          "name": "stdout"
        }
      ]
    },
    {
      "cell_type": "markdown",
      "metadata": {
        "id": "kf7zlC0XbyJv",
        "colab_type": "text"
      },
      "source": [
        "Establish the destination of where to copy the AWS credential file."
      ]
    },
    {
      "cell_type": "code",
      "metadata": {
        "id": "PbhKnR8Gb1q8",
        "colab_type": "code",
        "outputId": "fa490952-a153-40e2-f53f-53a0e87165ab",
        "colab": {
          "base_uri": "https://localhost:8080/",
          "height": 34
        }
      },
      "source": [
        "aws_credentials_dst = \"~/.aws/credentials\"\n",
        "print(aws_credentials_dst)    "
      ],
      "execution_count": 6,
      "outputs": [
        {
          "output_type": "stream",
          "text": [
            "~/.aws/credentials\n"
          ],
          "name": "stdout"
        }
      ]
    },
    {
      "cell_type": "markdown",
      "metadata": {
        "id": "PTN6l34eb1zf",
        "colab_type": "text"
      },
      "source": [
        "Copy the credentials from the my mounted Google Drive to the local folder."
      ]
    },
    {
      "cell_type": "code",
      "metadata": {
        "id": "3VSjLRH1b3qh",
        "colab_type": "code",
        "colab": {}
      },
      "source": [
        "#!/usr/bin/env python3\n",
        "mkdir -p ~/.aws &&\\\n",
        "  cp -r {aws_credentials_src} {aws_credentials_dst} "
      ],
      "execution_count": 0,
      "outputs": []
    },
    {
      "cell_type": "markdown",
      "metadata": {
        "id": "ynXDAcWMb5bQ",
        "colab_type": "text"
      },
      "source": [
        "Verify the credentials were correctly copied."
      ]
    },
    {
      "cell_type": "code",
      "metadata": {
        "id": "401ROmMmb5kT",
        "colab_type": "code",
        "outputId": "f27bf891-d1d5-48ea-c399-1c9a5589ef65",
        "colab": {
          "base_uri": "https://localhost:8080/",
          "height": 34
        }
      },
      "source": [
        "#!/usr/bin/env python3\n",
        "ls -R {aws_credentials_dst}"
      ],
      "execution_count": 8,
      "outputs": [
        {
          "output_type": "stream",
          "text": [
            "/root/.aws/credentials\n"
          ],
          "name": "stdout"
        }
      ]
    },
    {
      "cell_type": "markdown",
      "metadata": {
        "id": "kVBv3djEb_DS",
        "colab_type": "text"
      },
      "source": [
        "# Establish Boto3 Session"
      ]
    },
    {
      "cell_type": "markdown",
      "metadata": {
        "id": "dzbhA1fZcFOR",
        "colab_type": "text"
      },
      "source": [
        "By establishing a Boto3 session with Region, all downstream uses of Boto3 will import these associated values. We do not have to define the region multiple times."
      ]
    },
    {
      "cell_type": "code",
      "metadata": {
        "id": "mEdgon7ycGAx",
        "colab_type": "code",
        "colab": {}
      },
      "source": [
        "profile = 'dsba_6190_proj_4'\n",
        "region = 'us-east-1'\n",
        "\n",
        "session = boto3.Session(profile_name=profile, region_name=region)"
      ],
      "execution_count": 0,
      "outputs": []
    },
    {
      "cell_type": "markdown",
      "metadata": {
        "id": "Kwg0IZnscVpF",
        "colab_type": "text"
      },
      "source": [
        "# Processing"
      ]
    },
    {
      "cell_type": "markdown",
      "metadata": {
        "id": "rRd1j4dmdNPU",
        "colab_type": "text"
      },
      "source": [
        "## Generate List of All Files"
      ]
    },
    {
      "cell_type": "code",
      "metadata": {
        "id": "r1ihwxsCcfAX",
        "colab_type": "code",
        "colab": {}
      },
      "source": [
        "s3 = session.client(service_name=\"s3\")\n",
        "bucket = \"dsba-6190-project4-serverless-data-engineering-pipeline\""
      ],
      "execution_count": 0,
      "outputs": []
    },
    {
      "cell_type": "markdown",
      "metadata": {
        "id": "VP0mZSbnfrY3",
        "colab_type": "text"
      },
      "source": [
        "The following code chunk comes from this blog post, accessed on 3/16/2020:\n",
        "\n",
        "[https://alexwlchan.net/2017/07/listing-s3-keys/](https://alexwlchan.net/2017/07/listing-s3-keys/)\n",
        "\n",
        "\n",
        "The code generates a list of all files in a bucket. It is not recursive. An issue with S3 buckets is "
      ]
    },
    {
      "cell_type": "code",
      "metadata": {
        "id": "SJGM5XZNfD4p",
        "colab_type": "code",
        "colab": {}
      },
      "source": [
        "def get_all_s3_keys(bucket):\n",
        "    \"\"\"Get a list of all keys in an S3 bucket.\"\"\"\n",
        "    keys = []\n",
        "\n",
        "    kwargs = {'Bucket': bucket}\n",
        "    while True:\n",
        "        resp = s3.list_objects_v2(**kwargs)\n",
        "        for obj in resp['Contents']:\n",
        "            keys.append(obj['Key'])\n",
        "\n",
        "        try:\n",
        "            kwargs['ContinuationToken'] = resp['NextContinuationToken']\n",
        "        except KeyError:\n",
        "            break\n",
        "\n",
        "    return keys"
      ],
      "execution_count": 0,
      "outputs": []
    },
    {
      "cell_type": "code",
      "metadata": {
        "id": "RIe4EsWgfHTq",
        "colab_type": "code",
        "outputId": "b40bd42e-2861-4cf8-ec12-399e1e933f9a",
        "colab": {
          "base_uri": "https://localhost:8080/",
          "height": 119
        }
      },
      "source": [
        "lambda_output = get_all_s3_keys(bucket)\n",
        "lambda_output"
      ],
      "execution_count": 12,
      "outputs": [
        {
          "output_type": "execute_result",
          "data": {
            "text/plain": [
              "['entity_barkley_marathons.csv',\n",
              " 'entity_hardrock_hundred_mile_endurance_run.csv',\n",
              " 'entity_leadville_trail_100.csv',\n",
              " 'entity_ultra-trail_du_mont-blanc.csv',\n",
              " 'entity_vermont_100_mile_endurance_run.csv',\n",
              " 'entity_western_states_endurance_run.csv']"
            ]
          },
          "metadata": {
            "tags": []
          },
          "execution_count": 12
        }
      ]
    },
    {
      "cell_type": "markdown",
      "metadata": {
        "id": "Hnu_XlCSxk7c",
        "colab_type": "text"
      },
      "source": [
        "## Import CSV Files\n",
        "The following function returns a distionary of race names and dataframes, read from the associated race CSV files."
      ]
    },
    {
      "cell_type": "code",
      "metadata": {
        "id": "MBEtkf_Hxri8",
        "colab_type": "code",
        "colab": {}
      },
      "source": [
        "def import_csv(s3_bucket):\n",
        "  # Generate List of Files\n",
        "  s3_key_list = get_all_s3_keys(s3_bucket)\n",
        "\n",
        "  # Import Files, Appending Each into a list of dictionaries\n",
        "  df_dict = {}\n",
        "  for item in s3_key_list:\n",
        "    kwargs = {\n",
        "      'Bucket': bucket,\n",
        "      'Key': item\n",
        "    }\n",
        "    item_clipped = item.replace(\"entity_\",\"\").replace(\".csv\",\"\")\n",
        "    obj = s3.get_object(**kwargs)\n",
        "    df_buffer = pd.read_csv(io.BytesIO(obj['Body'].read()))\n",
        "    df_dict.update(\n",
        "        {item_clipped:df_buffer}\n",
        "    )\n",
        "  \n",
        "  return df_dict"
      ],
      "execution_count": 0,
      "outputs": []
    },
    {
      "cell_type": "code",
      "metadata": {
        "id": "jDW58dVtzzXi",
        "colab_type": "code",
        "colab": {}
      },
      "source": [
        "df_dict = import_csv(bucket)"
      ],
      "execution_count": 0,
      "outputs": []
    },
    {
      "cell_type": "markdown",
      "metadata": {
        "id": "TNnxpRcj_fxj",
        "colab_type": "text"
      },
      "source": [
        "# Print Output\n",
        "With the data for each race imported, we print the dataframes for each race. I will use some of these images in the README for the github repo."
      ]
    },
    {
      "cell_type": "code",
      "metadata": {
        "id": "NvpKgilx9hkK",
        "colab_type": "code",
        "colab": {
          "base_uri": "https://localhost:8080/",
          "height": 1000
        },
        "outputId": "a21e0882-981d-4910-d40f-7d2265d1d691"
      },
      "source": [
        "for race in df_dict:\n",
        "  race_print = race.replace(\"_\",\" \")\n",
        "  race_print = stringcase.titlecase(race_print)\n",
        "  print(race_print)\n",
        "  df = df_dict[race]\n",
        "  display(HTML(df.to_html()))\n",
        "  print(\"\")\n",
        "  print(\"\")"
      ],
      "execution_count": 15,
      "outputs": [
        {
          "output_type": "stream",
          "text": [
            "Barkley Marathons\n"
          ],
          "name": "stdout"
        },
        {
          "output_type": "display_data",
          "data": {
            "text/html": [
              "<table border=\"1\" class=\"dataframe\">\n",
              "  <thead>\n",
              "    <tr style=\"text-align: right;\">\n",
              "      <th></th>\n",
              "      <th>Text</th>\n",
              "      <th>Type</th>\n",
              "      <th>Score</th>\n",
              "      <th>BeginOffset</th>\n",
              "      <th>EndOffset</th>\n",
              "    </tr>\n",
              "  </thead>\n",
              "  <tbody>\n",
              "    <tr>\n",
              "      <th>0</th>\n",
              "      <td>Barkley Marathons</td>\n",
              "      <td>ORGANIZATION</td>\n",
              "      <td>0.877157</td>\n",
              "      <td>4</td>\n",
              "      <td>21</td>\n",
              "    </tr>\n",
              "    <tr>\n",
              "      <th>1</th>\n",
              "      <td>Frozen Head State Park</td>\n",
              "      <td>LOCATION</td>\n",
              "      <td>0.999560</td>\n",
              "      <td>61</td>\n",
              "      <td>83</td>\n",
              "    </tr>\n",
              "    <tr>\n",
              "      <th>2</th>\n",
              "      <td>Wartburg, Tennessee</td>\n",
              "      <td>LOCATION</td>\n",
              "      <td>0.941214</td>\n",
              "      <td>89</td>\n",
              "      <td>108</td>\n",
              "    </tr>\n",
              "  </tbody>\n",
              "</table>"
            ],
            "text/plain": [
              "<IPython.core.display.HTML object>"
            ]
          },
          "metadata": {
            "tags": []
          }
        },
        {
          "output_type": "stream",
          "text": [
            "\n",
            "\n",
            "Hardrock Hundred Mile Endurance Run\n"
          ],
          "name": "stdout"
        },
        {
          "output_type": "display_data",
          "data": {
            "text/html": [
              "<table border=\"1\" class=\"dataframe\">\n",
              "  <thead>\n",
              "    <tr style=\"text-align: right;\">\n",
              "      <th></th>\n",
              "      <th>Text</th>\n",
              "      <th>Type</th>\n",
              "      <th>Score</th>\n",
              "      <th>BeginOffset</th>\n",
              "      <th>EndOffset</th>\n",
              "    </tr>\n",
              "  </thead>\n",
              "  <tbody>\n",
              "    <tr>\n",
              "      <th>0</th>\n",
              "      <td>Hardrock Hundred Mile Endurance Run</td>\n",
              "      <td>EVENT</td>\n",
              "      <td>0.996339</td>\n",
              "      <td>4</td>\n",
              "      <td>39</td>\n",
              "    </tr>\n",
              "    <tr>\n",
              "      <th>1</th>\n",
              "      <td>100.5 miles</td>\n",
              "      <td>QUANTITY</td>\n",
              "      <td>0.999797</td>\n",
              "      <td>60</td>\n",
              "      <td>71</td>\n",
              "    </tr>\n",
              "    <tr>\n",
              "      <th>2</th>\n",
              "      <td>161.7 km</td>\n",
              "      <td>QUANTITY</td>\n",
              "      <td>0.999766</td>\n",
              "      <td>73</td>\n",
              "      <td>81</td>\n",
              "    </tr>\n",
              "    <tr>\n",
              "      <th>3</th>\n",
              "      <td>33,000 feet</td>\n",
              "      <td>QUANTITY</td>\n",
              "      <td>0.999909</td>\n",
              "      <td>99</td>\n",
              "      <td>110</td>\n",
              "    </tr>\n",
              "    <tr>\n",
              "      <th>4</th>\n",
              "      <td>10,000 m</td>\n",
              "      <td>QUANTITY</td>\n",
              "      <td>0.999669</td>\n",
              "      <td>112</td>\n",
              "      <td>120</td>\n",
              "    </tr>\n",
              "    <tr>\n",
              "      <th>5</th>\n",
              "      <td>over 11,000 feet</td>\n",
              "      <td>QUANTITY</td>\n",
              "      <td>0.670727</td>\n",
              "      <td>158</td>\n",
              "      <td>174</td>\n",
              "    </tr>\n",
              "    <tr>\n",
              "      <th>6</th>\n",
              "      <td>3,400 m</td>\n",
              "      <td>QUANTITY</td>\n",
              "      <td>0.999529</td>\n",
              "      <td>176</td>\n",
              "      <td>183</td>\n",
              "    </tr>\n",
              "  </tbody>\n",
              "</table>"
            ],
            "text/plain": [
              "<IPython.core.display.HTML object>"
            ]
          },
          "metadata": {
            "tags": []
          }
        },
        {
          "output_type": "stream",
          "text": [
            "\n",
            "\n",
            "Leadville Trail 100\n"
          ],
          "name": "stdout"
        },
        {
          "output_type": "display_data",
          "data": {
            "text/html": [
              "<table border=\"1\" class=\"dataframe\">\n",
              "  <thead>\n",
              "    <tr style=\"text-align: right;\">\n",
              "      <th></th>\n",
              "      <th>Text</th>\n",
              "      <th>Type</th>\n",
              "      <th>Score</th>\n",
              "      <th>BeginOffset</th>\n",
              "      <th>EndOffset</th>\n",
              "    </tr>\n",
              "  </thead>\n",
              "  <tbody>\n",
              "    <tr>\n",
              "      <th>0</th>\n",
              "      <td>Leadville Trail 100 Run</td>\n",
              "      <td>EVENT</td>\n",
              "      <td>0.880859</td>\n",
              "      <td>4</td>\n",
              "      <td>27</td>\n",
              "    </tr>\n",
              "    <tr>\n",
              "      <th>1</th>\n",
              "      <td>The Race Across The Sky</td>\n",
              "      <td>EVENT</td>\n",
              "      <td>0.886408</td>\n",
              "      <td>33</td>\n",
              "      <td>56</td>\n",
              "    </tr>\n",
              "    <tr>\n",
              "      <th>2</th>\n",
              "      <td>LT100</td>\n",
              "      <td>EVENT</td>\n",
              "      <td>0.921593</td>\n",
              "      <td>64</td>\n",
              "      <td>69</td>\n",
              "    </tr>\n",
              "    <tr>\n",
              "      <th>3</th>\n",
              "      <td>annually</td>\n",
              "      <td>QUANTITY</td>\n",
              "      <td>0.549734</td>\n",
              "      <td>96</td>\n",
              "      <td>104</td>\n",
              "    </tr>\n",
              "    <tr>\n",
              "      <th>4</th>\n",
              "      <td>Leadville, Colorado</td>\n",
              "      <td>LOCATION</td>\n",
              "      <td>0.949732</td>\n",
              "      <td>142</td>\n",
              "      <td>161</td>\n",
              "    </tr>\n",
              "    <tr>\n",
              "      <th>5</th>\n",
              "      <td>Rocky Mountains</td>\n",
              "      <td>LOCATION</td>\n",
              "      <td>0.994487</td>\n",
              "      <td>188</td>\n",
              "      <td>203</td>\n",
              "    </tr>\n",
              "  </tbody>\n",
              "</table>"
            ],
            "text/plain": [
              "<IPython.core.display.HTML object>"
            ]
          },
          "metadata": {
            "tags": []
          }
        },
        {
          "output_type": "stream",
          "text": [
            "\n",
            "\n",
            "Ultra Trail Du Mont Blanc\n"
          ],
          "name": "stdout"
        },
        {
          "output_type": "display_data",
          "data": {
            "text/html": [
              "<table border=\"1\" class=\"dataframe\">\n",
              "  <thead>\n",
              "    <tr style=\"text-align: right;\">\n",
              "      <th></th>\n",
              "      <th>Text</th>\n",
              "      <th>Type</th>\n",
              "      <th>Score</th>\n",
              "      <th>BeginOffset</th>\n",
              "      <th>EndOffset</th>\n",
              "    </tr>\n",
              "  </thead>\n",
              "  <tbody>\n",
              "    <tr>\n",
              "      <th>0</th>\n",
              "      <td>Ultra</td>\n",
              "      <td>EVENT</td>\n",
              "      <td>0.635489</td>\n",
              "      <td>4</td>\n",
              "      <td>9</td>\n",
              "    </tr>\n",
              "    <tr>\n",
              "      <th>1</th>\n",
              "      <td>-Trail du Mont-Blanc</td>\n",
              "      <td>ORGANIZATION</td>\n",
              "      <td>0.662964</td>\n",
              "      <td>9</td>\n",
              "      <td>29</td>\n",
              "    </tr>\n",
              "    <tr>\n",
              "      <th>2</th>\n",
              "      <td>UTMB</td>\n",
              "      <td>ORGANIZATION</td>\n",
              "      <td>0.710219</td>\n",
              "      <td>31</td>\n",
              "      <td>35</td>\n",
              "    </tr>\n",
              "    <tr>\n",
              "      <th>3</th>\n",
              "      <td>single-stage</td>\n",
              "      <td>QUANTITY</td>\n",
              "      <td>0.811800</td>\n",
              "      <td>42</td>\n",
              "      <td>54</td>\n",
              "    </tr>\n",
              "    <tr>\n",
              "      <th>4</th>\n",
              "      <td>first</td>\n",
              "      <td>QUANTITY</td>\n",
              "      <td>0.937365</td>\n",
              "      <td>78</td>\n",
              "      <td>83</td>\n",
              "    </tr>\n",
              "    <tr>\n",
              "      <th>5</th>\n",
              "      <td>2003</td>\n",
              "      <td>DATE</td>\n",
              "      <td>0.999278</td>\n",
              "      <td>92</td>\n",
              "      <td>96</td>\n",
              "    </tr>\n",
              "  </tbody>\n",
              "</table>"
            ],
            "text/plain": [
              "<IPython.core.display.HTML object>"
            ]
          },
          "metadata": {
            "tags": []
          }
        },
        {
          "output_type": "stream",
          "text": [
            "\n",
            "\n",
            "Vermont 100 Mile Endurance Run\n"
          ],
          "name": "stdout"
        },
        {
          "output_type": "display_data",
          "data": {
            "text/html": [
              "<table border=\"1\" class=\"dataframe\">\n",
              "  <thead>\n",
              "    <tr style=\"text-align: right;\">\n",
              "      <th></th>\n",
              "      <th>Text</th>\n",
              "      <th>Type</th>\n",
              "      <th>Score</th>\n",
              "      <th>BeginOffset</th>\n",
              "      <th>EndOffset</th>\n",
              "    </tr>\n",
              "  </thead>\n",
              "  <tbody>\n",
              "    <tr>\n",
              "      <th>0</th>\n",
              "      <td>Vermont 100 Mile Endurance Run</td>\n",
              "      <td>EVENT</td>\n",
              "      <td>0.998929</td>\n",
              "      <td>4</td>\n",
              "      <td>34</td>\n",
              "    </tr>\n",
              "    <tr>\n",
              "      <th>1</th>\n",
              "      <td>Vermont 100</td>\n",
              "      <td>EVENT</td>\n",
              "      <td>0.978381</td>\n",
              "      <td>37</td>\n",
              "      <td>48</td>\n",
              "    </tr>\n",
              "    <tr>\n",
              "      <th>2</th>\n",
              "      <td>100-mile</td>\n",
              "      <td>QUANTITY</td>\n",
              "      <td>0.999935</td>\n",
              "      <td>56</td>\n",
              "      <td>64</td>\n",
              "    </tr>\n",
              "    <tr>\n",
              "      <th>3</th>\n",
              "      <td>162 km</td>\n",
              "      <td>QUANTITY</td>\n",
              "      <td>0.999739</td>\n",
              "      <td>66</td>\n",
              "      <td>72</td>\n",
              "    </tr>\n",
              "    <tr>\n",
              "      <th>4</th>\n",
              "      <td>July</td>\n",
              "      <td>DATE</td>\n",
              "      <td>0.998822</td>\n",
              "      <td>110</td>\n",
              "      <td>114</td>\n",
              "    </tr>\n",
              "    <tr>\n",
              "      <th>5</th>\n",
              "      <td>Silver Hill Meadow</td>\n",
              "      <td>LOCATION</td>\n",
              "      <td>0.998826</td>\n",
              "      <td>118</td>\n",
              "      <td>136</td>\n",
              "    </tr>\n",
              "    <tr>\n",
              "      <th>6</th>\n",
              "      <td>West Windsor, Vermont</td>\n",
              "      <td>LOCATION</td>\n",
              "      <td>0.703432</td>\n",
              "      <td>140</td>\n",
              "      <td>161</td>\n",
              "    </tr>\n",
              "  </tbody>\n",
              "</table>"
            ],
            "text/plain": [
              "<IPython.core.display.HTML object>"
            ]
          },
          "metadata": {
            "tags": []
          }
        },
        {
          "output_type": "stream",
          "text": [
            "\n",
            "\n",
            "Western States Endurance Run\n"
          ],
          "name": "stdout"
        },
        {
          "output_type": "display_data",
          "data": {
            "text/html": [
              "<table border=\"1\" class=\"dataframe\">\n",
              "  <thead>\n",
              "    <tr style=\"text-align: right;\">\n",
              "      <th></th>\n",
              "      <th>Text</th>\n",
              "      <th>Type</th>\n",
              "      <th>Score</th>\n",
              "      <th>BeginOffset</th>\n",
              "      <th>EndOffset</th>\n",
              "    </tr>\n",
              "  </thead>\n",
              "  <tbody>\n",
              "    <tr>\n",
              "      <th>0</th>\n",
              "      <td>Western States Endurance Run</td>\n",
              "      <td>EVENT</td>\n",
              "      <td>0.993702</td>\n",
              "      <td>4</td>\n",
              "      <td>32</td>\n",
              "    </tr>\n",
              "    <tr>\n",
              "      <th>1</th>\n",
              "      <td>Western States 100</td>\n",
              "      <td>EVENT</td>\n",
              "      <td>0.996007</td>\n",
              "      <td>56</td>\n",
              "      <td>74</td>\n",
              "    </tr>\n",
              "    <tr>\n",
              "      <th>2</th>\n",
              "      <td>100-mile</td>\n",
              "      <td>QUANTITY</td>\n",
              "      <td>0.999894</td>\n",
              "      <td>81</td>\n",
              "      <td>89</td>\n",
              "    </tr>\n",
              "    <tr>\n",
              "      <th>3</th>\n",
              "      <td>161 km</td>\n",
              "      <td>QUANTITY</td>\n",
              "      <td>0.998989</td>\n",
              "      <td>91</td>\n",
              "      <td>97</td>\n",
              "    </tr>\n",
              "    <tr>\n",
              "      <th>4</th>\n",
              "      <td>California</td>\n",
              "      <td>LOCATION</td>\n",
              "      <td>0.997917</td>\n",
              "      <td>133</td>\n",
              "      <td>143</td>\n",
              "    </tr>\n",
              "    <tr>\n",
              "      <th>5</th>\n",
              "      <td>Sierra Nevada Mountains</td>\n",
              "      <td>LOCATION</td>\n",
              "      <td>0.986145</td>\n",
              "      <td>146</td>\n",
              "      <td>169</td>\n",
              "    </tr>\n",
              "    <tr>\n",
              "      <th>6</th>\n",
              "      <td>each year</td>\n",
              "      <td>QUANTITY</td>\n",
              "      <td>0.988641</td>\n",
              "      <td>177</td>\n",
              "      <td>186</td>\n",
              "    </tr>\n",
              "    <tr>\n",
              "      <th>7</th>\n",
              "      <td>last full weekend of June</td>\n",
              "      <td>DATE</td>\n",
              "      <td>0.899184</td>\n",
              "      <td>194</td>\n",
              "      <td>219</td>\n",
              "    </tr>\n",
              "  </tbody>\n",
              "</table>"
            ],
            "text/plain": [
              "<IPython.core.display.HTML object>"
            ]
          },
          "metadata": {
            "tags": []
          }
        },
        {
          "output_type": "stream",
          "text": [
            "\n",
            "\n"
          ],
          "name": "stdout"
        }
      ]
    }
  ]
}