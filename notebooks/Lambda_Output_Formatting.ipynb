{
  "nbformat": 4,
  "nbformat_minor": 0,
  "metadata": {
    "colab": {
      "name": "Lambda Output Formatting.ipynb",
      "provenance": [],
      "collapsed_sections": [],
      "toc_visible": true,
      "authorship_tag": "ABX9TyOQbSDR/V+vSAOFjfZIdBBR",
      "include_colab_link": true
    },
    "kernelspec": {
      "name": "python3",
      "display_name": "Python 3"
    }
  },
  "cells": [
    {
      "cell_type": "markdown",
      "metadata": {
        "id": "view-in-github",
        "colab_type": "text"
      },
      "source": [
        "<a href=\"https://colab.research.google.com/github/canfielder/DSBA-6190_Proj4_Serverless-Pipeline/blob/master/notebooks/Lambda_Output_Formatting.ipynb\" target=\"_parent\"><img src=\"https://colab.research.google.com/assets/colab-badge.svg\" alt=\"Open In Colab\"/></a>"
      ]
    },
    {
      "cell_type": "markdown",
      "metadata": {
        "id": "a8_JIQQPaTPd",
        "colab_type": "text"
      },
      "source": [
        "# Import"
      ]
    },
    {
      "cell_type": "markdown",
      "metadata": {
        "id": "790-f6jYascS",
        "colab_type": "text"
      },
      "source": [
        "## Install"
      ]
    },
    {
      "cell_type": "code",
      "metadata": {
        "id": "1jKp5xzCawEx",
        "colab_type": "code",
        "colab": {}
      },
      "source": [
        "!pip -q install boto3"
      ],
      "execution_count": 0,
      "outputs": []
    },
    {
      "cell_type": "markdown",
      "metadata": {
        "id": "M7Ka2B84aw1s",
        "colab_type": "text"
      },
      "source": [
        "## Packages"
      ]
    },
    {
      "cell_type": "code",
      "metadata": {
        "id": "67xXCawsaWCE",
        "colab_type": "code",
        "colab": {}
      },
      "source": [
        "# General\n",
        "import os\n",
        "import pandas as pd\n",
        "import pprint\n",
        "\n",
        "# AWS Connection\n",
        "from google.colab import drive\n",
        "import boto3\n"
      ],
      "execution_count": 0,
      "outputs": []
    },
    {
      "cell_type": "markdown",
      "metadata": {
        "id": "OU91D2e8bU53",
        "colab_type": "text"
      },
      "source": [
        "# Set Up AWS Connection"
      ]
    },
    {
      "cell_type": "markdown",
      "metadata": {
        "id": "boKkDSfmbaU3",
        "colab_type": "text"
      },
      "source": [
        "## Mount Google Drive"
      ]
    },
    {
      "cell_type": "code",
      "metadata": {
        "id": "g-CuCPHYbZMl",
        "colab_type": "code",
        "colab": {
          "base_uri": "https://localhost:8080/",
          "height": 122
        },
        "outputId": "790ace58-8636-4576-a591-f3e4c2719038"
      },
      "source": [
        "drive.mount('/content/gdrive', force_remount=True)"
      ],
      "execution_count": 7,
      "outputs": [
        {
          "output_type": "stream",
          "text": [
            "Go to this URL in a browser: https://accounts.google.com/o/oauth2/auth?client_id=947318989803-6bn6qk8qdgf4n4g3pfee6491hc0brc4i.apps.googleusercontent.com&redirect_uri=urn%3aietf%3awg%3aoauth%3a2.0%3aoob&response_type=code&scope=email%20https%3a%2f%2fwww.googleapis.com%2fauth%2fdocs.test%20https%3a%2f%2fwww.googleapis.com%2fauth%2fdrive%20https%3a%2f%2fwww.googleapis.com%2fauth%2fdrive.photos.readonly%20https%3a%2f%2fwww.googleapis.com%2fauth%2fpeopleapi.readonly\n",
            "\n",
            "Enter your authorization code:\n",
            "··········\n",
            "Mounted at /content/gdrive\n"
          ],
          "name": "stdout"
        }
      ]
    },
    {
      "cell_type": "code",
      "metadata": {
        "id": "TOU3THOrbUGv",
        "colab_type": "code",
        "colab": {}
      },
      "source": [
        "path = \"/content/gdrive/My Drive/aws/credentials/\"\n",
        "\n",
        "aws_dir = os.listdir(path)\n",
        "\n",
        "aws_credentials = aws_dir.pop(0)"
      ],
      "execution_count": 0,
      "outputs": []
    },
    {
      "cell_type": "markdown",
      "metadata": {
        "id": "w5C8gU7kbpGO",
        "colab_type": "text"
      },
      "source": [
        "Establish the source location of the AWS credential file."
      ]
    },
    {
      "cell_type": "code",
      "metadata": {
        "id": "aI8ym5Ogbmc4",
        "colab_type": "code",
        "colab": {
          "base_uri": "https://localhost:8080/",
          "height": 34
        },
        "outputId": "e7563b7b-c725-428e-ecd1-ede2211cd399"
      },
      "source": [
        "aws_credentials_src = os.path.join(path, aws_credentials)\n",
        "aws_credentials_src = aws_credentials_src.replace(\" \", \"\\ \")\n",
        "print(aws_credentials_src)"
      ],
      "execution_count": 9,
      "outputs": [
        {
          "output_type": "stream",
          "text": [
            "/content/gdrive/My\\ Drive/aws/credentials/credentials\n"
          ],
          "name": "stdout"
        }
      ]
    },
    {
      "cell_type": "markdown",
      "metadata": {
        "id": "kf7zlC0XbyJv",
        "colab_type": "text"
      },
      "source": [
        "Establish the destination of where to copy the AWS credential file."
      ]
    },
    {
      "cell_type": "code",
      "metadata": {
        "id": "PbhKnR8Gb1q8",
        "colab_type": "code",
        "colab": {
          "base_uri": "https://localhost:8080/",
          "height": 34
        },
        "outputId": "8446ff7e-a624-42b1-bfe2-feead524a37b"
      },
      "source": [
        "aws_credentials_dst = \"~/.aws/credentials\"\n",
        "print(aws_credentials_dst)    "
      ],
      "execution_count": 10,
      "outputs": [
        {
          "output_type": "stream",
          "text": [
            "~/.aws/credentials\n"
          ],
          "name": "stdout"
        }
      ]
    },
    {
      "cell_type": "markdown",
      "metadata": {
        "id": "PTN6l34eb1zf",
        "colab_type": "text"
      },
      "source": [
        "Copy the credentials from the my mounted Google Drive to the local folder."
      ]
    },
    {
      "cell_type": "code",
      "metadata": {
        "id": "3VSjLRH1b3qh",
        "colab_type": "code",
        "colab": {}
      },
      "source": [
        "#!/usr/bin/env python3\n",
        "mkdir -p ~/.aws &&\\\n",
        "  cp -r {aws_credentials_src} {aws_credentials_dst} "
      ],
      "execution_count": 0,
      "outputs": []
    },
    {
      "cell_type": "markdown",
      "metadata": {
        "id": "ynXDAcWMb5bQ",
        "colab_type": "text"
      },
      "source": [
        "Verify the credentials were correctly copied."
      ]
    },
    {
      "cell_type": "code",
      "metadata": {
        "id": "401ROmMmb5kT",
        "colab_type": "code",
        "colab": {
          "base_uri": "https://localhost:8080/",
          "height": 34
        },
        "outputId": "879cfcf6-c3b7-43ed-9a15-5102cbfac7c9"
      },
      "source": [
        "#!/usr/bin/env python3\n",
        "ls -R {aws_credentials_dst}"
      ],
      "execution_count": 12,
      "outputs": [
        {
          "output_type": "stream",
          "text": [
            "/root/.aws/credentials\n"
          ],
          "name": "stdout"
        }
      ]
    },
    {
      "cell_type": "markdown",
      "metadata": {
        "id": "kVBv3djEb_DS",
        "colab_type": "text"
      },
      "source": [
        "# Establish Boto3 Session"
      ]
    },
    {
      "cell_type": "markdown",
      "metadata": {
        "id": "dzbhA1fZcFOR",
        "colab_type": "text"
      },
      "source": [
        "By establishing a Boto3 session with Region, all downstream uses of Boto3 will import these associated values. We do not have to define the region multiple times."
      ]
    },
    {
      "cell_type": "code",
      "metadata": {
        "id": "mEdgon7ycGAx",
        "colab_type": "code",
        "colab": {}
      },
      "source": [
        "profile = 'dsba_6190_proj_4'\n",
        "region = 'us-east-1'\n",
        "\n",
        "session = boto3.Session(profile_name=profile, region_name=region)"
      ],
      "execution_count": 0,
      "outputs": []
    },
    {
      "cell_type": "markdown",
      "metadata": {
        "id": "Kwg0IZnscVpF",
        "colab_type": "text"
      },
      "source": [
        "# Processing"
      ]
    },
    {
      "cell_type": "markdown",
      "metadata": {
        "id": "rRd1j4dmdNPU",
        "colab_type": "text"
      },
      "source": [
        "## Generate List of All Files"
      ]
    },
    {
      "cell_type": "code",
      "metadata": {
        "id": "r1ihwxsCcfAX",
        "colab_type": "code",
        "colab": {}
      },
      "source": [
        "s3 = session.client(service_name=\"s3\")"
      ],
      "execution_count": 0,
      "outputs": []
    },
    {
      "cell_type": "markdown",
      "metadata": {
        "id": "VP0mZSbnfrY3",
        "colab_type": "text"
      },
      "source": [
        "The following code chunk comes from this blog post, accessed on 3/16/2020:\n",
        "\n",
        "[https://alexwlchan.net/2017/07/listing-s3-keys/](https://alexwlchan.net/2017/07/listing-s3-keys/)\n",
        "\n",
        "\n",
        "The code generates a list of all files in a bucket. It is not recursive. An issue with S3 buckets is "
      ]
    },
    {
      "cell_type": "code",
      "metadata": {
        "id": "SJGM5XZNfD4p",
        "colab_type": "code",
        "colab": {}
      },
      "source": [
        "def get_all_s3_keys(bucket):\n",
        "    \"\"\"Get a list of all keys in an S3 bucket.\"\"\"\n",
        "    keys = []\n",
        "\n",
        "    kwargs = {'Bucket': bucket}\n",
        "    while True:\n",
        "        resp = s3.list_objects_v2(**kwargs)\n",
        "        for obj in resp['Contents']:\n",
        "            keys.append(obj['Key'])\n",
        "\n",
        "        try:\n",
        "            kwargs['ContinuationToken'] = resp['NextContinuationToken']\n",
        "        except KeyError:\n",
        "            break\n",
        "\n",
        "    return keys"
      ],
      "execution_count": 0,
      "outputs": []
    },
    {
      "cell_type": "code",
      "metadata": {
        "id": "RIe4EsWgfHTq",
        "colab_type": "code",
        "colab": {
          "base_uri": "https://localhost:8080/",
          "height": 119
        },
        "outputId": "80cde9a7-08e0-4c88-89f0-a98dba69da8e"
      },
      "source": [
        "get_all_s3_keys(bucket)"
      ],
      "execution_count": 34,
      "outputs": [
        {
          "output_type": "execute_result",
          "data": {
            "text/plain": [
              "['entity_barkley_marathons.csv',\n",
              " 'entity_hardrock_hundred_mile_endurance_run.csv',\n",
              " 'entity_leadville_trail_100.csv',\n",
              " 'entity_ultra-trail_du_mont-blanc.csv',\n",
              " 'entity_vermont_100_mile_endurance_run.csv',\n",
              " 'entity_western_states_endurance_run.csv']"
            ]
          },
          "metadata": {
            "tags": []
          },
          "execution_count": 34
        }
      ]
    }
  ]
}