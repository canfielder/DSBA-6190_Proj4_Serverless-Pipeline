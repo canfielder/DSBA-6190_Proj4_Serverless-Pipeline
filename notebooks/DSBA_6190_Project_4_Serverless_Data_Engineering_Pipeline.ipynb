{
  "nbformat": 4,
  "nbformat_minor": 0,
  "metadata": {
    "colab": {
      "name": "DSBA-6190_Project-4_Serverless-Data-Engineering-Pipeline.ipynb",
      "provenance": [],
      "collapsed_sections": [],
      "authorship_tag": "ABX9TyNCm6LfsQPvfN0Yg2yCktXn",
      "include_colab_link": true
    },
    "kernelspec": {
      "name": "python3",
      "display_name": "Python 3"
    }
  },
  "cells": [
    {
      "cell_type": "markdown",
      "metadata": {
        "id": "view-in-github",
        "colab_type": "text"
      },
      "source": [
        "<a href=\"https://colab.research.google.com/github/canfielder/DSBA-6190_Proj4_Serverless-Pipeline/blob/master/notebooks/DSBA_6190_Project_4_Serverless_Data_Engineering_Pipeline.ipynb\" target=\"_parent\"><img src=\"https://colab.research.google.com/assets/colab-badge.svg\" alt=\"Open In Colab\"/></a>"
      ]
    },
    {
      "cell_type": "markdown",
      "metadata": {
        "id": "E6_N8EImeZN-",
        "colab_type": "text"
      },
      "source": [
        "# Import"
      ]
    },
    {
      "cell_type": "markdown",
      "metadata": {
        "id": "9-mT8hJCg47z",
        "colab_type": "text"
      },
      "source": [
        "## Installs"
      ]
    },
    {
      "cell_type": "markdown",
      "metadata": {
        "id": "hJB_nvPtg7DS",
        "colab_type": "text"
      },
      "source": [
        "### Boto3"
      ]
    },
    {
      "cell_type": "code",
      "metadata": {
        "id": "xGM8wWbRg5KL",
        "colab_type": "code",
        "colab": {}
      },
      "source": [
        "!pip -q install boto3"
      ],
      "execution_count": 0,
      "outputs": []
    },
    {
      "cell_type": "markdown",
      "metadata": {
        "id": "v0U3U9zVgyk2",
        "colab_type": "text"
      },
      "source": [
        "## Packages"
      ]
    },
    {
      "cell_type": "code",
      "metadata": {
        "id": "drjYZVWBea5x",
        "colab_type": "code",
        "colab": {}
      },
      "source": [
        "# General\n",
        "import os\n",
        "\n",
        "# AWS Connection\n",
        "from google.colab import drive\n",
        "import boto3\n",
        "\n"
      ],
      "execution_count": 0,
      "outputs": []
    },
    {
      "cell_type": "markdown",
      "metadata": {
        "id": "ImKtAHlHefy0",
        "colab_type": "text"
      },
      "source": [
        "# Set Up AWS Connection"
      ]
    },
    {
      "cell_type": "markdown",
      "metadata": {
        "id": "_e6IlFYDe5Cv",
        "colab_type": "text"
      },
      "source": [
        "## Mount Google Drive\n"
      ]
    },
    {
      "cell_type": "code",
      "metadata": {
        "id": "yseGNwBUeibn",
        "colab_type": "code",
        "colab": {
          "base_uri": "https://localhost:8080/",
          "height": 34
        },
        "outputId": "00234f99-64db-420a-bf33-0aae8a773b08"
      },
      "source": [
        "drive.mount('/content/gdrive', force_remount=True)"
      ],
      "execution_count": 40,
      "outputs": [
        {
          "output_type": "stream",
          "text": [
            "Mounted at /content/gdrive\n"
          ],
          "name": "stdout"
        }
      ]
    },
    {
      "cell_type": "markdown",
      "metadata": {
        "id": "E5VgEkORe8uT",
        "colab_type": "text"
      },
      "source": [
        "Now we verify we can access AWS Credentials. We will the AWS credentials from my personal Google Drive and into the appropriate local folder."
      ]
    },
    {
      "cell_type": "code",
      "metadata": {
        "id": "TgYDEP6Qe37G",
        "colab_type": "code",
        "colab": {
          "base_uri": "https://localhost:8080/",
          "height": 34
        },
        "outputId": "bc1803a6-b490-4342-f212-f284159d3f4d"
      },
      "source": [
        "path = \"/content/gdrive/My Drive/aws\"\n",
        "\n",
        "aws_dir = os.listdir(path)\n",
        "print(aws_dir)\n",
        "\n",
        "aws_credentials = aws_dir.pop(0)"
      ],
      "execution_count": 41,
      "outputs": [
        {
          "output_type": "stream",
          "text": [
            "['credentials', 'user_evan.canfield_accessKeys.csv']\n"
          ],
          "name": "stdout"
        }
      ]
    },
    {
      "cell_type": "markdown",
      "metadata": {
        "id": "HVIsw1_IUKMD",
        "colab_type": "text"
      },
      "source": [
        "Establish the source location of the AWS credential file."
      ]
    },
    {
      "cell_type": "code",
      "metadata": {
        "id": "kUP3ByMqhyWC",
        "colab_type": "code",
        "colab": {
          "base_uri": "https://localhost:8080/",
          "height": 34
        },
        "outputId": "1dc303fc-84ed-4beb-d50a-79ed13bfc8ec"
      },
      "source": [
        "aws_credentials_src = os.path.join(path, aws_credentials)\n",
        "aws_credentials_src = aws_credentials_src.replace(\" \", \"\\ \")\n",
        "print(aws_credentials_src)"
      ],
      "execution_count": 42,
      "outputs": [
        {
          "output_type": "stream",
          "text": [
            "/content/gdrive/My\\ Drive/aws/credentials\n"
          ],
          "name": "stdout"
        }
      ]
    },
    {
      "cell_type": "markdown",
      "metadata": {
        "id": "v2cD_IXUUe4q",
        "colab_type": "text"
      },
      "source": [
        "Establish the destination of where to copy the AWS credential file."
      ]
    },
    {
      "cell_type": "code",
      "metadata": {
        "id": "EjiiI6mchFxB",
        "colab_type": "code",
        "colab": {
          "base_uri": "https://localhost:8080/",
          "height": 34
        },
        "outputId": "6a9e7a00-d223-4a1b-fbc1-cf21c03e6230"
      },
      "source": [
        "aws_credentials_dst = \"~/.aws/\"\n",
        "print(aws_credentials_dst)    "
      ],
      "execution_count": 43,
      "outputs": [
        {
          "output_type": "stream",
          "text": [
            "~/.aws/\n"
          ],
          "name": "stdout"
        }
      ]
    },
    {
      "cell_type": "markdown",
      "metadata": {
        "id": "71Z_2RKNUoCW",
        "colab_type": "text"
      },
      "source": [
        "Copy the credentials from the my mounted Google Drive to the local folder."
      ]
    },
    {
      "cell_type": "code",
      "metadata": {
        "id": "3RDpIO47hS3L",
        "colab_type": "code",
        "colab": {}
      },
      "source": [
        "#!/usr/bin/env python3\n",
        "mkdir -p ~/.aws &&\\\n",
        "  cp -r {aws_credentials_src} {aws_credentials_dst} "
      ],
      "execution_count": 0,
      "outputs": []
    },
    {
      "cell_type": "markdown",
      "metadata": {
        "id": "XjxPxcPbUhqL",
        "colab_type": "text"
      },
      "source": [
        "Verify the credentials were correctly copied."
      ]
    },
    {
      "cell_type": "code",
      "metadata": {
        "id": "SDldl3MPHjnw",
        "colab_type": "code",
        "colab": {
          "base_uri": "https://localhost:8080/",
          "height": 51
        },
        "outputId": "e874f6ae-3667-439c-a4a7-528f932c3135"
      },
      "source": [
        "#!/usr/bin/env python3\n",
        "ls -R {aws_credentials_dst}"
      ],
      "execution_count": 45,
      "outputs": [
        {
          "output_type": "stream",
          "text": [
            "/root/.aws/:\n",
            "credentials\n"
          ],
          "name": "stdout"
        }
      ]
    },
    {
      "cell_type": "markdown",
      "metadata": {
        "id": "8PsxUy1gFJet",
        "colab_type": "text"
      },
      "source": [
        "## API Call Test\n",
        "Test that we have access to the AWS function."
      ]
    },
    {
      "cell_type": "code",
      "metadata": {
        "id": "EyCTr44QFJmb",
        "colab_type": "code",
        "colab": {
          "base_uri": "https://localhost:8080/",
          "height": 221
        },
        "outputId": "7d075b87-1396-4fbf-9f9c-336a20abdb4a"
      },
      "source": [
        "session = boto3.Session(profile_name='dsba_6190_proj_4')\n",
        "comprehend = session.client(service_name='comprehend', region_name=\"us-east-1\")\n",
        "text_sample = \"I hope I don't have to be quarentined.\"\n",
        "comprehend.detect_sentiment(Text=text_sample, LanguageCode='en')"
      ],
      "execution_count": 50,
      "outputs": [
        {
          "output_type": "execute_result",
          "data": {
            "text/plain": [
              "{'ResponseMetadata': {'HTTPHeaders': {'content-length': '163',\n",
              "   'content-type': 'application/x-amz-json-1.1',\n",
              "   'date': 'Fri, 13 Mar 2020 19:22:12 GMT',\n",
              "   'x-amzn-requestid': '12e706cf-5dba-47de-b3ca-6db53a0986c7'},\n",
              "  'HTTPStatusCode': 200,\n",
              "  'RequestId': '12e706cf-5dba-47de-b3ca-6db53a0986c7',\n",
              "  'RetryAttempts': 0},\n",
              " 'Sentiment': 'NEUTRAL',\n",
              " 'SentimentScore': {'Mixed': 1.1915316463273484e-05,\n",
              "  'Negative': 0.11930244415998459,\n",
              "  'Neutral': 0.44884905219078064,\n",
              "  'Positive': 0.4318366050720215}}"
            ]
          },
          "metadata": {
            "tags": []
          },
          "execution_count": 50
        }
      ]
    }
  ]
}