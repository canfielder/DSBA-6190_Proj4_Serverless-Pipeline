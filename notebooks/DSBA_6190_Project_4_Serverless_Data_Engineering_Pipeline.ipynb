{
  "nbformat": 4,
  "nbformat_minor": 0,
  "metadata": {
    "colab": {
      "name": "DSBA-6190_Project-4_Serverless-Data-Engineering-Pipeline.ipynb",
      "provenance": [],
      "collapsed_sections": [],
      "toc_visible": true,
      "authorship_tag": "ABX9TyPihCCeXE39jO8dOsv515Er",
      "include_colab_link": true
    },
    "kernelspec": {
      "name": "python3",
      "display_name": "Python 3"
    }
  },
  "cells": [
    {
      "cell_type": "markdown",
      "metadata": {
        "id": "view-in-github",
        "colab_type": "text"
      },
      "source": [
        "<a href=\"https://colab.research.google.com/github/canfielder/DSBA-6190_Proj4_Serverless-Pipeline/blob/master/notebooks/DSBA_6190_Project_4_Serverless_Data_Engineering_Pipeline.ipynb\" target=\"_parent\"><img src=\"https://colab.research.google.com/assets/colab-badge.svg\" alt=\"Open In Colab\"/></a>"
      ]
    },
    {
      "cell_type": "markdown",
      "metadata": {
        "id": "E6_N8EImeZN-",
        "colab_type": "text"
      },
      "source": [
        "# Import"
      ]
    },
    {
      "cell_type": "markdown",
      "metadata": {
        "id": "9-mT8hJCg47z",
        "colab_type": "text"
      },
      "source": [
        "## Installs"
      ]
    },
    {
      "cell_type": "code",
      "metadata": {
        "id": "xGM8wWbRg5KL",
        "colab_type": "code",
        "colab": {}
      },
      "source": [
        "# Boto3\n",
        "!pip -q install boto3"
      ],
      "execution_count": 0,
      "outputs": []
    },
    {
      "cell_type": "markdown",
      "metadata": {
        "id": "v0U3U9zVgyk2",
        "colab_type": "text"
      },
      "source": [
        "## Packages"
      ]
    },
    {
      "cell_type": "code",
      "metadata": {
        "id": "drjYZVWBea5x",
        "colab_type": "code",
        "colab": {}
      },
      "source": [
        "# General\n",
        "import os\n",
        "import io\n",
        "import json\n",
        "import pandas as pd\n",
        "import pprint\n",
        "from IPython.display import display\n",
        "\n",
        "\n",
        "\n",
        "# AWS Connection\n",
        "from google.colab import drive\n",
        "import boto3\n",
        "\n"
      ],
      "execution_count": 0,
      "outputs": []
    },
    {
      "cell_type": "markdown",
      "metadata": {
        "id": "ImKtAHlHefy0",
        "colab_type": "text"
      },
      "source": [
        "# Set Up AWS Connection"
      ]
    },
    {
      "cell_type": "markdown",
      "metadata": {
        "id": "_e6IlFYDe5Cv",
        "colab_type": "text"
      },
      "source": [
        "## Mount Google Drive\n"
      ]
    },
    {
      "cell_type": "code",
      "metadata": {
        "id": "yseGNwBUeibn",
        "colab_type": "code",
        "outputId": "eb9f6e64-8894-477a-ba3f-4603a182f627",
        "colab": {
          "base_uri": "https://localhost:8080/",
          "height": 34
        }
      },
      "source": [
        "drive.mount('/content/gdrive', force_remount=True)"
      ],
      "execution_count": 3,
      "outputs": [
        {
          "output_type": "stream",
          "text": [
            "Mounted at /content/gdrive\n"
          ],
          "name": "stdout"
        }
      ]
    },
    {
      "cell_type": "markdown",
      "metadata": {
        "id": "E5VgEkORe8uT",
        "colab_type": "text"
      },
      "source": [
        "Now we verify we can access AWS Credentials. We will the AWS credentials from my personal Google Drive and into the appropriate local folder."
      ]
    },
    {
      "cell_type": "code",
      "metadata": {
        "id": "TgYDEP6Qe37G",
        "colab_type": "code",
        "outputId": "d9609fbb-30e5-437e-b39b-139fac625b97",
        "colab": {
          "base_uri": "https://localhost:8080/",
          "height": 34
        }
      },
      "source": [
        "path = \"/content/gdrive/My Drive/aws/credentials/\"\n",
        "\n",
        "aws_dir = os.listdir(path)\n",
        "print(aws_dir)\n",
        "\n",
        "aws_credentials = aws_dir.pop(0)"
      ],
      "execution_count": 4,
      "outputs": [
        {
          "output_type": "stream",
          "text": [
            "['credentials']\n"
          ],
          "name": "stdout"
        }
      ]
    },
    {
      "cell_type": "markdown",
      "metadata": {
        "id": "HVIsw1_IUKMD",
        "colab_type": "text"
      },
      "source": [
        "Establish the source location of the AWS credential file."
      ]
    },
    {
      "cell_type": "code",
      "metadata": {
        "id": "kUP3ByMqhyWC",
        "colab_type": "code",
        "outputId": "34c9c572-4f85-47d2-ef9d-28e1e607283c",
        "colab": {
          "base_uri": "https://localhost:8080/",
          "height": 34
        }
      },
      "source": [
        "aws_credentials_src = os.path.join(path, aws_credentials)\n",
        "aws_credentials_src = aws_credentials_src.replace(\" \", \"\\ \")\n",
        "print(aws_credentials_src)"
      ],
      "execution_count": 5,
      "outputs": [
        {
          "output_type": "stream",
          "text": [
            "/content/gdrive/My\\ Drive/aws/credentials/credentials\n"
          ],
          "name": "stdout"
        }
      ]
    },
    {
      "cell_type": "markdown",
      "metadata": {
        "id": "v2cD_IXUUe4q",
        "colab_type": "text"
      },
      "source": [
        "Establish the destination of where to copy the AWS credential file."
      ]
    },
    {
      "cell_type": "code",
      "metadata": {
        "id": "EjiiI6mchFxB",
        "colab_type": "code",
        "outputId": "a06d85fb-4c2f-40b6-c44a-1cc468a1a68d",
        "colab": {
          "base_uri": "https://localhost:8080/",
          "height": 34
        }
      },
      "source": [
        "aws_credentials_dst = \"~/.aws/credentials\"\n",
        "print(aws_credentials_dst)    "
      ],
      "execution_count": 6,
      "outputs": [
        {
          "output_type": "stream",
          "text": [
            "~/.aws/credentials\n"
          ],
          "name": "stdout"
        }
      ]
    },
    {
      "cell_type": "markdown",
      "metadata": {
        "id": "71Z_2RKNUoCW",
        "colab_type": "text"
      },
      "source": [
        "Copy the credentials from the my mounted Google Drive to the local folder."
      ]
    },
    {
      "cell_type": "code",
      "metadata": {
        "id": "3RDpIO47hS3L",
        "colab_type": "code",
        "colab": {}
      },
      "source": [
        "#!/usr/bin/env python3\n",
        "mkdir -p ~/.aws &&\\\n",
        "  cp -r {aws_credentials_src} {aws_credentials_dst} "
      ],
      "execution_count": 0,
      "outputs": []
    },
    {
      "cell_type": "markdown",
      "metadata": {
        "id": "XjxPxcPbUhqL",
        "colab_type": "text"
      },
      "source": [
        "Verify the credentials were correctly copied."
      ]
    },
    {
      "cell_type": "code",
      "metadata": {
        "id": "SDldl3MPHjnw",
        "colab_type": "code",
        "outputId": "1cab9210-f2c0-43c4-e355-929913a4936e",
        "colab": {
          "base_uri": "https://localhost:8080/",
          "height": 34
        }
      },
      "source": [
        "#!/usr/bin/env python3\n",
        "ls -R {aws_credentials_dst}"
      ],
      "execution_count": 8,
      "outputs": [
        {
          "output_type": "stream",
          "text": [
            "/root/.aws/credentials\n"
          ],
          "name": "stdout"
        }
      ]
    },
    {
      "cell_type": "markdown",
      "metadata": {
        "id": "NPcsu6iSGa7j",
        "colab_type": "text"
      },
      "source": [
        "## Establish Boto3 Session and Region\n",
        "By establishing a Boto3 session with Region, all downstream uses of Boto3 will import these associated values. We do not have to define the region multiple times."
      ]
    },
    {
      "cell_type": "code",
      "metadata": {
        "id": "v0tF2OXiGpib",
        "colab_type": "code",
        "colab": {}
      },
      "source": [
        "session = boto3.Session(profile_name='dsba_6190_proj_4', \n",
        "                        region_name=\"us-east-1\")"
      ],
      "execution_count": 0,
      "outputs": []
    },
    {
      "cell_type": "markdown",
      "metadata": {
        "id": "8PsxUy1gFJet",
        "colab_type": "text"
      },
      "source": [
        "## API Call Test\n",
        "Test that we have access to AWS Comprehend"
      ]
    },
    {
      "cell_type": "code",
      "metadata": {
        "id": "EyCTr44QFJmb",
        "colab_type": "code",
        "outputId": "7b641841-ed2b-4ea7-d6c3-d6ab4acd8f68",
        "colab": {
          "base_uri": "https://localhost:8080/",
          "height": 221
        }
      },
      "source": [
        "comprehend = session.client(service_name='comprehend')\n",
        "text_sample = \"I hope I don't have to be quarentined.\"\n",
        "comprehend.detect_sentiment(Text=text_sample, LanguageCode='en')"
      ],
      "execution_count": 10,
      "outputs": [
        {
          "output_type": "execute_result",
          "data": {
            "text/plain": [
              "{'ResponseMetadata': {'HTTPHeaders': {'content-length': '163',\n",
              "   'content-type': 'application/x-amz-json-1.1',\n",
              "   'date': 'Tue, 17 Mar 2020 00:37:23 GMT',\n",
              "   'x-amzn-requestid': '2cdd058a-9ace-4e42-b6a8-ee6beea2aa33'},\n",
              "  'HTTPStatusCode': 200,\n",
              "  'RequestId': '2cdd058a-9ace-4e42-b6a8-ee6beea2aa33',\n",
              "  'RetryAttempts': 0},\n",
              " 'Sentiment': 'NEUTRAL',\n",
              " 'SentimentScore': {'Mixed': 1.1915316463273484e-05,\n",
              "  'Negative': 0.11930244415998459,\n",
              "  'Neutral': 0.44884905219078064,\n",
              "  'Positive': 0.4318366050720215}}"
            ]
          },
          "metadata": {
            "tags": []
          },
          "execution_count": 10
        }
      ]
    },
    {
      "cell_type": "markdown",
      "metadata": {
        "id": "AjpJp2SrGJRU",
        "colab_type": "text"
      },
      "source": [
        "# Import DynamoDB Table\n",
        "The following section will import the DynamoDB table we will use for this project and then create a list of items to be analyzed with AWS Comprehend.\n",
        "\n",
        "First we will pull the name of the table we want to use as a string. We need the DynamoDB Client function for this."
      ]
    },
    {
      "cell_type": "code",
      "metadata": {
        "id": "bt0wTz24Lrlk",
        "colab_type": "code",
        "colab": {}
      },
      "source": [
        ""
      ],
      "execution_count": 0,
      "outputs": []
    },
    {
      "cell_type": "code",
      "metadata": {
        "id": "x-9dJtu3GN6O",
        "colab_type": "code",
        "outputId": "cf1d89e9-c489-41b6-9236-1a4ff172e02c",
        "colab": {
          "base_uri": "https://localhost:8080/",
          "height": 34
        }
      },
      "source": [
        "dynamo_c = session.client(service_name = 'dynamodb')\n",
        "table_proj4 = dynamo_c.list_tables()['TableNames'][0]\n",
        "print(\"The table to be used for this project is named: {0}\".format(table_proj4))"
      ],
      "execution_count": 11,
      "outputs": [
        {
          "output_type": "stream",
          "text": [
            "The table to be used for this project is named: Ultras\n"
          ],
          "name": "stdout"
        }
      ]
    },
    {
      "cell_type": "markdown",
      "metadata": {
        "id": "JR8YDkL9Lcl9",
        "colab_type": "text"
      },
      "source": [
        "Now, with the table name as a string, we need the DynamoDB Resource function. We will then scan. This will return a list of dictionaries. We will use this list to check the Wikipedia API."
      ]
    },
    {
      "cell_type": "code",
      "metadata": {
        "id": "Tr4pQIjSI9Zq",
        "colab_type": "code",
        "outputId": "fa7ba18c-3640-4c9d-cfed-67f5efe45d3a",
        "colab": {
          "base_uri": "https://localhost:8080/",
          "height": 119
        }
      },
      "source": [
        "dynamo_r = session.resource(service_name = 'dynamodb')\n",
        "table_producer = dynamo_r.Table(table_proj4)\n",
        "response = table_producer.scan()\n",
        "items = response['Items']\n",
        "items"
      ],
      "execution_count": 12,
      "outputs": [
        {
          "output_type": "execute_result",
          "data": {
            "text/plain": [
              "[{'Races': 'Barkley Marathons'},\n",
              " {'Races': 'Leadville Trail 100'},\n",
              " {'Races': 'Vermont 100 Mile Endurance Run'},\n",
              " {'Races': 'Ultra-Trail du Mont-Blanc'},\n",
              " {'Races': 'Western States Endurance Run'},\n",
              " {'Races': 'Hardrock Hundred Mile Endurance Run'}]"
            ]
          },
          "metadata": {
            "tags": []
          },
          "execution_count": 12
        }
      ]
    },
    {
      "cell_type": "markdown",
      "metadata": {
        "id": "42TAYtmkHYeI",
        "colab_type": "text"
      },
      "source": [
        "# Verify Wikipedia API\n",
        "The following code cells check values called against the Wikpedia API. This also verifies that every item entered that will be pulled from the DynamoDB database has a correspondig wikipedia entry.\n"
      ]
    },
    {
      "cell_type": "code",
      "metadata": {
        "id": "OUr7_vyV94qB",
        "colab_type": "code",
        "colab": {}
      },
      "source": [
        "!pip -q install wikipedia"
      ],
      "execution_count": 0,
      "outputs": []
    },
    {
      "cell_type": "code",
      "metadata": {
        "id": "lBbe3jB1_SPe",
        "colab_type": "code",
        "colab": {}
      },
      "source": [
        "import wikipedia"
      ],
      "execution_count": 0,
      "outputs": []
    },
    {
      "cell_type": "code",
      "metadata": {
        "id": "2L59cUcL_Whv",
        "colab_type": "code",
        "colab": {}
      },
      "source": [
        "def wiki_summary(item_list):\n",
        "  for item in item_list:\n",
        "    entry = item['Races']\n",
        "    entry_summary = wikipedia.summary(entry)\n",
        "    print(\"{0}:\\n{1}\\n\".format(item['Races'], entry_summary))\n",
        "  return "
      ],
      "execution_count": 0,
      "outputs": []
    },
    {
      "cell_type": "code",
      "metadata": {
        "id": "BcZl0K-eNhFQ",
        "colab_type": "code",
        "outputId": "bef72277-18b4-42d4-ba19-0cb5de6f673e",
        "colab": {
          "base_uri": "https://localhost:8080/",
          "height": 394
        }
      },
      "source": [
        "wiki_summary(items)"
      ],
      "execution_count": 16,
      "outputs": [
        {
          "output_type": "stream",
          "text": [
            "Barkley Marathons:\n",
            "The Barkley Marathons is an ultramarathon trail race held in Frozen Head State Park near Wartburg, Tennessee. If runners complete 60 miles (97 km) this is known as a \"fun run\". The full course is 100 miles (160 km) (distances are approximate). The race is limited to a 60-hour period,  and takes place in late March or early April of each year.\n",
            "\n",
            "\n",
            "\n",
            "Leadville Trail 100:\n",
            "The Leadville Trail 100 Run (aka The Race Across The Sky or the LT100) is an ultramarathon held annually on rugged trails and dirt roads near Leadville, Colorado, through the heart of the Rocky Mountains. First run in 1983, the race course climbs and descends 15,600 feet (4,800 m), with elevations ranging from 9,200-12,620 feet (2,800-3,850 m). In most years, fewer than half the starters complete the race within the 30-hour time limit.\n",
            "\n",
            "Vermont 100 Mile Endurance Run:\n",
            "The Vermont 100 Mile Endurance Run (\"Vermont 100\") is a 100-mile (162 km) long ultramarathon held annually in July at Silver Hill Meadow in West Windsor, Vermont.  It is one of the five 100-mile races that comprise the Grand Slam of Ultrarunning.  It is also the only known ultra race in the USA where entrants run alongside horses over a similar course, in a separate but simultaneous race. (Horses avoid some of the more treacherous single-track and technical trails.) The race has been held every year since 1989.\n",
            "\n",
            "Ultra-Trail du Mont-Blanc:\n",
            "The Ultra-Trail du Mont-Blanc (UTMB) is a single-stage mountain ultramarathon first held in 2003. It is a race of the Ultra-Trail World Tour.\n",
            "\n",
            "Western States Endurance Run:\n",
            "The Western States Endurance Run, known commonly as the Western States 100, is a 100-mile (161 km) ultramarathon that takes place on California's Sierra Nevada Mountains trails each year on the last full weekend of June. The race starts at the base of the Squaw Valley ski resort and finishes at the Placer High School track in Auburn, California. The terrain is quite rugged, frequently showcasing snow on the highest passes and record hot temperatures throughout the course. Runners ascend a cumulative total of 18,090 feet (5500 m) and descend a total of 22,970 feet (7000 m) on mountain trails before reaching the finish. Because of the length, the race commences at 5 a.m. and continues through the day and into the night. Runners finishing before the 30-hour time limit for the race receive a commemorative bronze belt buckle, while runners finishing in under 24 hours receive a silver belt buckle.\n",
            "The Western States 100 is sponsored by Altra, a Utah athletic footwear company, and is one of the five 100-mile races that comprise the Grand Slam of Ultrarunning, which also includes the Old Dominion 100, Vermont 100 Mile Endurance Run, the Wasatch Front 100 Mile Endurance Run in Utah, and the Leadville Trail 100 in Colorado.\n",
            "\n",
            "Hardrock Hundred Mile Endurance Run:\n",
            "The Hardrock Hundred Mile Endurance Run is an ultramarathon 100.5 miles (161.7 km) in length, with 33,000 feet (10,000 m) of climb at an average elevation of over 11,000 feet (3,400 m). The race is held on a loop course on 4WD roads, dirt trails, and cross country in Southern Colorado's San Juan Range, USA.  The race is dedicated to the memory of the miners who settled in the area and who built the mining trails on which much of the race is run. The race is directed by Dale Garland.\n",
            "\n"
          ],
          "name": "stdout"
        }
      ]
    },
    {
      "cell_type": "markdown",
      "metadata": {
        "id": "VN-SNeHi0API",
        "colab_type": "text"
      },
      "source": [
        "# AWS Comprehend Testing\n",
        "Now that we know we can import the DynamoDB table into this notebook, and that each entry in the table has a corresponding wikipedia entry, we will test **AWS Comprehend** functions against these wikipedia entries."
      ]
    },
    {
      "cell_type": "markdown",
      "metadata": {
        "id": "IPYF2-rUQfRa",
        "colab_type": "text"
      },
      "source": [
        "## Sentiment Analysis\n",
        "With the wikipedia entries available, we will test the sentiment analysis function."
      ]
    },
    {
      "cell_type": "code",
      "metadata": {
        "id": "ioIB7t1BOowJ",
        "colab_type": "code",
        "colab": {}
      },
      "source": [
        "def sentiment(item_list):\n",
        "  for item in item_list:\n",
        "    entry = item['Races']\n",
        "    entry_summary = wikipedia.summary(entry)\n",
        "    sentiment = comprehend.detect_sentiment(Text=entry_summary, \n",
        "                                            LanguageCode='en')\n",
        "    pprint.pprint(sentiment)\n",
        "    print(\"\\n\\n\\n\")\n",
        "  return "
      ],
      "execution_count": 0,
      "outputs": []
    },
    {
      "cell_type": "code",
      "metadata": {
        "id": "4gyc2N03O55V",
        "colab_type": "code",
        "outputId": "5eeb3f52-e0d6-4868-95b5-14f36c027711",
        "colab": {
          "base_uri": "https://localhost:8080/",
          "height": 1000
        }
      },
      "source": [
        "sentiment(items)"
      ],
      "execution_count": 18,
      "outputs": [
        {
          "output_type": "stream",
          "text": [
            "{'ResponseMetadata': {'HTTPHeaders': {'content-length': '162',\n",
            "                                      'content-type': 'application/x-amz-json-1.1',\n",
            "                                      'date': 'Tue, 17 Mar 2020 00:37:42 GMT',\n",
            "                                      'x-amzn-requestid': '53599f5c-1b71-4adb-a607-056ab9610f97'},\n",
            "                      'HTTPStatusCode': 200,\n",
            "                      'RequestId': '53599f5c-1b71-4adb-a607-056ab9610f97',\n",
            "                      'RetryAttempts': 0},\n",
            " 'Sentiment': 'NEUTRAL',\n",
            " 'SentimentScore': {'Mixed': 1.324443815065024e-06,\n",
            "                    'Negative': 0.000236633321037516,\n",
            "                    'Neutral': 0.9850009679794312,\n",
            "                    'Positive': 0.01476116944104433}}\n",
            "\n",
            "\n",
            "\n",
            "\n",
            "{'ResponseMetadata': {'HTTPHeaders': {'content-length': '165',\n",
            "                                      'content-type': 'application/x-amz-json-1.1',\n",
            "                                      'date': 'Tue, 17 Mar 2020 00:37:42 GMT',\n",
            "                                      'x-amzn-requestid': 'd10d43ca-8443-4f52-966f-a7d8f8c4bb9b'},\n",
            "                      'HTTPStatusCode': 200,\n",
            "                      'RequestId': 'd10d43ca-8443-4f52-966f-a7d8f8c4bb9b',\n",
            "                      'RetryAttempts': 0},\n",
            " 'Sentiment': 'NEUTRAL',\n",
            " 'SentimentScore': {'Mixed': 1.0019426781582297e-06,\n",
            "                    'Negative': 6.218351336428896e-05,\n",
            "                    'Neutral': 0.9962612986564636,\n",
            "                    'Positive': 0.003675509477034211}}\n",
            "\n",
            "\n",
            "\n",
            "\n",
            "{'ResponseMetadata': {'HTTPHeaders': {'content-length': '165',\n",
            "                                      'content-type': 'application/x-amz-json-1.1',\n",
            "                                      'date': 'Tue, 17 Mar 2020 00:37:42 GMT',\n",
            "                                      'x-amzn-requestid': '0077e12f-4c3c-47be-85b7-632a9b7d000d'},\n",
            "                      'HTTPStatusCode': 200,\n",
            "                      'RequestId': '0077e12f-4c3c-47be-85b7-632a9b7d000d',\n",
            "                      'RetryAttempts': 0},\n",
            " 'Sentiment': 'NEUTRAL',\n",
            " 'SentimentScore': {'Mixed': 1.4573652151739225e-06,\n",
            "                    'Negative': 7.816740253474563e-05,\n",
            "                    'Neutral': 0.9928867220878601,\n",
            "                    'Positive': 0.007033715024590492}}\n",
            "\n",
            "\n",
            "\n",
            "\n",
            "{'ResponseMetadata': {'HTTPHeaders': {'content-length': '165',\n",
            "                                      'content-type': 'application/x-amz-json-1.1',\n",
            "                                      'date': 'Tue, 17 Mar 2020 00:37:42 GMT',\n",
            "                                      'x-amzn-requestid': '66d4d6e8-d3f7-4714-92c7-ab66ecde2403'},\n",
            "                      'HTTPStatusCode': 200,\n",
            "                      'RequestId': '66d4d6e8-d3f7-4714-92c7-ab66ecde2403',\n",
            "                      'RetryAttempts': 0},\n",
            " 'Sentiment': 'NEUTRAL',\n",
            " 'SentimentScore': {'Mixed': 1.1920977840418345e-06,\n",
            "                    'Negative': 0.00010687700705602765,\n",
            "                    'Neutral': 0.9951977133750916,\n",
            "                    'Positive': 0.00469428114593029}}\n",
            "\n",
            "\n",
            "\n",
            "\n",
            "{'ResponseMetadata': {'HTTPHeaders': {'content-length': '164',\n",
            "                                      'content-type': 'application/x-amz-json-1.1',\n",
            "                                      'date': 'Tue, 17 Mar 2020 00:37:43 GMT',\n",
            "                                      'x-amzn-requestid': 'cb8768eb-226b-41da-8d1d-6e8a01b28466'},\n",
            "                      'HTTPStatusCode': 200,\n",
            "                      'RequestId': 'cb8768eb-226b-41da-8d1d-6e8a01b28466',\n",
            "                      'RetryAttempts': 0},\n",
            " 'Sentiment': 'NEUTRAL',\n",
            " 'SentimentScore': {'Mixed': 8.174150707418448e-07,\n",
            "                    'Negative': 0.0001317132409894839,\n",
            "                    'Neutral': 0.9914116859436035,\n",
            "                    'Positive': 0.008455798029899597}}\n",
            "\n",
            "\n",
            "\n",
            "\n",
            "{'ResponseMetadata': {'HTTPHeaders': {'content-length': '163',\n",
            "                                      'content-type': 'application/x-amz-json-1.1',\n",
            "                                      'date': 'Tue, 17 Mar 2020 00:37:43 GMT',\n",
            "                                      'x-amzn-requestid': '94ee5ac2-c3e8-4aff-a714-d2191a4d5345'},\n",
            "                      'HTTPStatusCode': 200,\n",
            "                      'RequestId': '94ee5ac2-c3e8-4aff-a714-d2191a4d5345',\n",
            "                      'RetryAttempts': 0},\n",
            " 'Sentiment': 'NEUTRAL',\n",
            " 'SentimentScore': {'Mixed': 1.131580347646377e-06,\n",
            "                    'Negative': 3.90151071769651e-05,\n",
            "                    'Neutral': 0.9954604506492615,\n",
            "                    'Positive': 0.004499371163547039}}\n",
            "\n",
            "\n",
            "\n",
            "\n"
          ],
          "name": "stdout"
        }
      ]
    },
    {
      "cell_type": "markdown",
      "metadata": {
        "id": "99i1A48F69zM",
        "colab_type": "text"
      },
      "source": [
        "## Entity Recognition\n",
        "We will now test the Entity Recognition function."
      ]
    },
    {
      "cell_type": "code",
      "metadata": {
        "id": "WQhg425N72O4",
        "colab_type": "code",
        "colab": {}
      },
      "source": [
        "def create_entity(input_str):\n",
        "  payload = comprehend.detect_entities(Text = input_str, LanguageCode = 'en')\n",
        "  entity = payload['Entities']\n",
        "  return entity"
      ],
      "execution_count": 0,
      "outputs": []
    },
    {
      "cell_type": "code",
      "metadata": {
        "id": "6D3-hqFQQUkC",
        "colab_type": "code",
        "colab": {}
      },
      "source": [
        "def entity_process(item_str):\n",
        "  for item in item_str:\n",
        "    entry = item['Races']\n",
        "    entry_summary = wikipedia.summary(entry)\n",
        "    entity_dict = create_entity(entry_summary)\n",
        "    \n",
        "    # Conver to Data Fraem\n",
        "    df = pd.DataFrame.from_dict(entity_dict)\n",
        "    df = df[['Text', 'Type', 'Score', 'BeginOffset', 'EndOffset']]\n",
        "    #pprint.pprint(df)\n",
        "    print(entry)\n",
        "    display(df)\n",
        "    print(\"\\n\\n\\n\")\n",
        "  return\n"
      ],
      "execution_count": 0,
      "outputs": []
    },
    {
      "cell_type": "code",
      "metadata": {
        "id": "24Q-iQ08RK6y",
        "colab_type": "code",
        "outputId": "f38d0249-f623-41eb-e531-2a8625b28b88",
        "colab": {
          "base_uri": "https://localhost:8080/",
          "height": 1000
        }
      },
      "source": [
        "entity_process(items)"
      ],
      "execution_count": 21,
      "outputs": [
        {
          "output_type": "stream",
          "text": [
            "Barkley Marathons\n"
          ],
          "name": "stdout"
        },
        {
          "output_type": "display_data",
          "data": {
            "text/html": [
              "<div>\n",
              "<style scoped>\n",
              "    .dataframe tbody tr th:only-of-type {\n",
              "        vertical-align: middle;\n",
              "    }\n",
              "\n",
              "    .dataframe tbody tr th {\n",
              "        vertical-align: top;\n",
              "    }\n",
              "\n",
              "    .dataframe thead th {\n",
              "        text-align: right;\n",
              "    }\n",
              "</style>\n",
              "<table border=\"1\" class=\"dataframe\">\n",
              "  <thead>\n",
              "    <tr style=\"text-align: right;\">\n",
              "      <th></th>\n",
              "      <th>Text</th>\n",
              "      <th>Type</th>\n",
              "      <th>Score</th>\n",
              "      <th>BeginOffset</th>\n",
              "      <th>EndOffset</th>\n",
              "    </tr>\n",
              "  </thead>\n",
              "  <tbody>\n",
              "    <tr>\n",
              "      <th>0</th>\n",
              "      <td>Barkley Marathons</td>\n",
              "      <td>ORGANIZATION</td>\n",
              "      <td>0.592081</td>\n",
              "      <td>4</td>\n",
              "      <td>21</td>\n",
              "    </tr>\n",
              "    <tr>\n",
              "      <th>1</th>\n",
              "      <td>Frozen Head State Park</td>\n",
              "      <td>LOCATION</td>\n",
              "      <td>0.999226</td>\n",
              "      <td>61</td>\n",
              "      <td>83</td>\n",
              "    </tr>\n",
              "    <tr>\n",
              "      <th>2</th>\n",
              "      <td>Wartburg, Tennessee</td>\n",
              "      <td>LOCATION</td>\n",
              "      <td>0.953557</td>\n",
              "      <td>89</td>\n",
              "      <td>108</td>\n",
              "    </tr>\n",
              "    <tr>\n",
              "      <th>3</th>\n",
              "      <td>60 miles</td>\n",
              "      <td>QUANTITY</td>\n",
              "      <td>0.999934</td>\n",
              "      <td>130</td>\n",
              "      <td>138</td>\n",
              "    </tr>\n",
              "    <tr>\n",
              "      <th>4</th>\n",
              "      <td>97 km</td>\n",
              "      <td>QUANTITY</td>\n",
              "      <td>0.999859</td>\n",
              "      <td>140</td>\n",
              "      <td>145</td>\n",
              "    </tr>\n",
              "    <tr>\n",
              "      <th>5</th>\n",
              "      <td>100 miles</td>\n",
              "      <td>QUANTITY</td>\n",
              "      <td>0.999910</td>\n",
              "      <td>196</td>\n",
              "      <td>205</td>\n",
              "    </tr>\n",
              "    <tr>\n",
              "      <th>6</th>\n",
              "      <td>160 km</td>\n",
              "      <td>QUANTITY</td>\n",
              "      <td>0.999602</td>\n",
              "      <td>207</td>\n",
              "      <td>213</td>\n",
              "    </tr>\n",
              "    <tr>\n",
              "      <th>7</th>\n",
              "      <td>60-hour</td>\n",
              "      <td>QUANTITY</td>\n",
              "      <td>0.999419</td>\n",
              "      <td>269</td>\n",
              "      <td>276</td>\n",
              "    </tr>\n",
              "    <tr>\n",
              "      <th>8</th>\n",
              "      <td>late March</td>\n",
              "      <td>DATE</td>\n",
              "      <td>0.990913</td>\n",
              "      <td>305</td>\n",
              "      <td>315</td>\n",
              "    </tr>\n",
              "    <tr>\n",
              "      <th>9</th>\n",
              "      <td>early April</td>\n",
              "      <td>DATE</td>\n",
              "      <td>0.980301</td>\n",
              "      <td>319</td>\n",
              "      <td>330</td>\n",
              "    </tr>\n",
              "    <tr>\n",
              "      <th>10</th>\n",
              "      <td>each year</td>\n",
              "      <td>QUANTITY</td>\n",
              "      <td>0.978399</td>\n",
              "      <td>334</td>\n",
              "      <td>343</td>\n",
              "    </tr>\n",
              "  </tbody>\n",
              "</table>\n",
              "</div>"
            ],
            "text/plain": [
              "                      Text          Type     Score  BeginOffset  EndOffset\n",
              "0        Barkley Marathons  ORGANIZATION  0.592081            4         21\n",
              "1   Frozen Head State Park      LOCATION  0.999226           61         83\n",
              "2      Wartburg, Tennessee      LOCATION  0.953557           89        108\n",
              "3                 60 miles      QUANTITY  0.999934          130        138\n",
              "4                    97 km      QUANTITY  0.999859          140        145\n",
              "5                100 miles      QUANTITY  0.999910          196        205\n",
              "6                   160 km      QUANTITY  0.999602          207        213\n",
              "7                  60-hour      QUANTITY  0.999419          269        276\n",
              "8               late March          DATE  0.990913          305        315\n",
              "9              early April          DATE  0.980301          319        330\n",
              "10               each year      QUANTITY  0.978399          334        343"
            ]
          },
          "metadata": {
            "tags": []
          }
        },
        {
          "output_type": "stream",
          "text": [
            "\n",
            "\n",
            "\n",
            "\n",
            "Leadville Trail 100\n"
          ],
          "name": "stdout"
        },
        {
          "output_type": "display_data",
          "data": {
            "text/html": [
              "<div>\n",
              "<style scoped>\n",
              "    .dataframe tbody tr th:only-of-type {\n",
              "        vertical-align: middle;\n",
              "    }\n",
              "\n",
              "    .dataframe tbody tr th {\n",
              "        vertical-align: top;\n",
              "    }\n",
              "\n",
              "    .dataframe thead th {\n",
              "        text-align: right;\n",
              "    }\n",
              "</style>\n",
              "<table border=\"1\" class=\"dataframe\">\n",
              "  <thead>\n",
              "    <tr style=\"text-align: right;\">\n",
              "      <th></th>\n",
              "      <th>Text</th>\n",
              "      <th>Type</th>\n",
              "      <th>Score</th>\n",
              "      <th>BeginOffset</th>\n",
              "      <th>EndOffset</th>\n",
              "    </tr>\n",
              "  </thead>\n",
              "  <tbody>\n",
              "    <tr>\n",
              "      <th>0</th>\n",
              "      <td>Leadville Trail 100 Run</td>\n",
              "      <td>EVENT</td>\n",
              "      <td>0.963261</td>\n",
              "      <td>4</td>\n",
              "      <td>27</td>\n",
              "    </tr>\n",
              "    <tr>\n",
              "      <th>1</th>\n",
              "      <td>Race Across The</td>\n",
              "      <td>EVENT</td>\n",
              "      <td>0.598275</td>\n",
              "      <td>37</td>\n",
              "      <td>52</td>\n",
              "    </tr>\n",
              "    <tr>\n",
              "      <th>2</th>\n",
              "      <td>LT100</td>\n",
              "      <td>EVENT</td>\n",
              "      <td>0.742535</td>\n",
              "      <td>64</td>\n",
              "      <td>69</td>\n",
              "    </tr>\n",
              "    <tr>\n",
              "      <th>3</th>\n",
              "      <td>Leadville, Colorado</td>\n",
              "      <td>LOCATION</td>\n",
              "      <td>0.919218</td>\n",
              "      <td>142</td>\n",
              "      <td>161</td>\n",
              "    </tr>\n",
              "    <tr>\n",
              "      <th>4</th>\n",
              "      <td>Rocky Mountains</td>\n",
              "      <td>LOCATION</td>\n",
              "      <td>0.984929</td>\n",
              "      <td>188</td>\n",
              "      <td>203</td>\n",
              "    </tr>\n",
              "    <tr>\n",
              "      <th>5</th>\n",
              "      <td>First run</td>\n",
              "      <td>QUANTITY</td>\n",
              "      <td>0.980282</td>\n",
              "      <td>205</td>\n",
              "      <td>214</td>\n",
              "    </tr>\n",
              "    <tr>\n",
              "      <th>6</th>\n",
              "      <td>1983</td>\n",
              "      <td>DATE</td>\n",
              "      <td>0.999746</td>\n",
              "      <td>218</td>\n",
              "      <td>222</td>\n",
              "    </tr>\n",
              "    <tr>\n",
              "      <th>7</th>\n",
              "      <td>15,600 feet</td>\n",
              "      <td>QUANTITY</td>\n",
              "      <td>0.996622</td>\n",
              "      <td>260</td>\n",
              "      <td>271</td>\n",
              "    </tr>\n",
              "    <tr>\n",
              "      <th>8</th>\n",
              "      <td>4,800 m</td>\n",
              "      <td>QUANTITY</td>\n",
              "      <td>0.998061</td>\n",
              "      <td>273</td>\n",
              "      <td>280</td>\n",
              "    </tr>\n",
              "    <tr>\n",
              "      <th>9</th>\n",
              "      <td>9,200-12,620 feet</td>\n",
              "      <td>QUANTITY</td>\n",
              "      <td>0.814761</td>\n",
              "      <td>312</td>\n",
              "      <td>329</td>\n",
              "    </tr>\n",
              "    <tr>\n",
              "      <th>10</th>\n",
              "      <td>2,800-3,850 m</td>\n",
              "      <td>QUANTITY</td>\n",
              "      <td>0.689707</td>\n",
              "      <td>331</td>\n",
              "      <td>344</td>\n",
              "    </tr>\n",
              "    <tr>\n",
              "      <th>11</th>\n",
              "      <td>most years</td>\n",
              "      <td>QUANTITY</td>\n",
              "      <td>0.797895</td>\n",
              "      <td>350</td>\n",
              "      <td>360</td>\n",
              "    </tr>\n",
              "    <tr>\n",
              "      <th>12</th>\n",
              "      <td>fewer</td>\n",
              "      <td>QUANTITY</td>\n",
              "      <td>0.580806</td>\n",
              "      <td>362</td>\n",
              "      <td>367</td>\n",
              "    </tr>\n",
              "    <tr>\n",
              "      <th>13</th>\n",
              "      <td>half the starters</td>\n",
              "      <td>QUANTITY</td>\n",
              "      <td>0.850360</td>\n",
              "      <td>373</td>\n",
              "      <td>390</td>\n",
              "    </tr>\n",
              "    <tr>\n",
              "      <th>14</th>\n",
              "      <td>30-hour</td>\n",
              "      <td>QUANTITY</td>\n",
              "      <td>0.999210</td>\n",
              "      <td>420</td>\n",
              "      <td>427</td>\n",
              "    </tr>\n",
              "  </tbody>\n",
              "</table>\n",
              "</div>"
            ],
            "text/plain": [
              "                       Text      Type     Score  BeginOffset  EndOffset\n",
              "0   Leadville Trail 100 Run     EVENT  0.963261            4         27\n",
              "1           Race Across The     EVENT  0.598275           37         52\n",
              "2                     LT100     EVENT  0.742535           64         69\n",
              "3       Leadville, Colorado  LOCATION  0.919218          142        161\n",
              "4           Rocky Mountains  LOCATION  0.984929          188        203\n",
              "5                 First run  QUANTITY  0.980282          205        214\n",
              "6                      1983      DATE  0.999746          218        222\n",
              "7               15,600 feet  QUANTITY  0.996622          260        271\n",
              "8                   4,800 m  QUANTITY  0.998061          273        280\n",
              "9         9,200-12,620 feet  QUANTITY  0.814761          312        329\n",
              "10            2,800-3,850 m  QUANTITY  0.689707          331        344\n",
              "11               most years  QUANTITY  0.797895          350        360\n",
              "12                    fewer  QUANTITY  0.580806          362        367\n",
              "13        half the starters  QUANTITY  0.850360          373        390\n",
              "14                  30-hour  QUANTITY  0.999210          420        427"
            ]
          },
          "metadata": {
            "tags": []
          }
        },
        {
          "output_type": "stream",
          "text": [
            "\n",
            "\n",
            "\n",
            "\n",
            "Vermont 100 Mile Endurance Run\n"
          ],
          "name": "stdout"
        },
        {
          "output_type": "display_data",
          "data": {
            "text/html": [
              "<div>\n",
              "<style scoped>\n",
              "    .dataframe tbody tr th:only-of-type {\n",
              "        vertical-align: middle;\n",
              "    }\n",
              "\n",
              "    .dataframe tbody tr th {\n",
              "        vertical-align: top;\n",
              "    }\n",
              "\n",
              "    .dataframe thead th {\n",
              "        text-align: right;\n",
              "    }\n",
              "</style>\n",
              "<table border=\"1\" class=\"dataframe\">\n",
              "  <thead>\n",
              "    <tr style=\"text-align: right;\">\n",
              "      <th></th>\n",
              "      <th>Text</th>\n",
              "      <th>Type</th>\n",
              "      <th>Score</th>\n",
              "      <th>BeginOffset</th>\n",
              "      <th>EndOffset</th>\n",
              "    </tr>\n",
              "  </thead>\n",
              "  <tbody>\n",
              "    <tr>\n",
              "      <th>0</th>\n",
              "      <td>Vermont 100 Mile Endurance Run</td>\n",
              "      <td>EVENT</td>\n",
              "      <td>0.998820</td>\n",
              "      <td>4</td>\n",
              "      <td>34</td>\n",
              "    </tr>\n",
              "    <tr>\n",
              "      <th>1</th>\n",
              "      <td>Vermont 100</td>\n",
              "      <td>EVENT</td>\n",
              "      <td>0.933523</td>\n",
              "      <td>37</td>\n",
              "      <td>48</td>\n",
              "    </tr>\n",
              "    <tr>\n",
              "      <th>2</th>\n",
              "      <td>100-mile</td>\n",
              "      <td>QUANTITY</td>\n",
              "      <td>0.999911</td>\n",
              "      <td>56</td>\n",
              "      <td>64</td>\n",
              "    </tr>\n",
              "    <tr>\n",
              "      <th>3</th>\n",
              "      <td>162 km</td>\n",
              "      <td>QUANTITY</td>\n",
              "      <td>0.998309</td>\n",
              "      <td>66</td>\n",
              "      <td>72</td>\n",
              "    </tr>\n",
              "    <tr>\n",
              "      <th>4</th>\n",
              "      <td>July</td>\n",
              "      <td>DATE</td>\n",
              "      <td>0.996884</td>\n",
              "      <td>110</td>\n",
              "      <td>114</td>\n",
              "    </tr>\n",
              "    <tr>\n",
              "      <th>5</th>\n",
              "      <td>Silver Hill Meadow</td>\n",
              "      <td>LOCATION</td>\n",
              "      <td>0.999326</td>\n",
              "      <td>118</td>\n",
              "      <td>136</td>\n",
              "    </tr>\n",
              "    <tr>\n",
              "      <th>6</th>\n",
              "      <td>West Windsor</td>\n",
              "      <td>LOCATION</td>\n",
              "      <td>0.774987</td>\n",
              "      <td>140</td>\n",
              "      <td>152</td>\n",
              "    </tr>\n",
              "    <tr>\n",
              "      <th>7</th>\n",
              "      <td>Vermont</td>\n",
              "      <td>LOCATION</td>\n",
              "      <td>0.743249</td>\n",
              "      <td>154</td>\n",
              "      <td>161</td>\n",
              "    </tr>\n",
              "    <tr>\n",
              "      <th>8</th>\n",
              "      <td>one</td>\n",
              "      <td>QUANTITY</td>\n",
              "      <td>0.942272</td>\n",
              "      <td>170</td>\n",
              "      <td>173</td>\n",
              "    </tr>\n",
              "    <tr>\n",
              "      <th>9</th>\n",
              "      <td>five 100-mile races</td>\n",
              "      <td>QUANTITY</td>\n",
              "      <td>0.825850</td>\n",
              "      <td>181</td>\n",
              "      <td>200</td>\n",
              "    </tr>\n",
              "    <tr>\n",
              "      <th>10</th>\n",
              "      <td>Grand Slam of Ultrarunning</td>\n",
              "      <td>EVENT</td>\n",
              "      <td>0.977144</td>\n",
              "      <td>219</td>\n",
              "      <td>245</td>\n",
              "    </tr>\n",
              "    <tr>\n",
              "      <th>11</th>\n",
              "      <td>USA</td>\n",
              "      <td>LOCATION</td>\n",
              "      <td>0.998984</td>\n",
              "      <td>292</td>\n",
              "      <td>295</td>\n",
              "    </tr>\n",
              "    <tr>\n",
              "      <th>12</th>\n",
              "      <td>every year</td>\n",
              "      <td>QUANTITY</td>\n",
              "      <td>0.774690</td>\n",
              "      <td>494</td>\n",
              "      <td>504</td>\n",
              "    </tr>\n",
              "    <tr>\n",
              "      <th>13</th>\n",
              "      <td>1989</td>\n",
              "      <td>DATE</td>\n",
              "      <td>0.981319</td>\n",
              "      <td>511</td>\n",
              "      <td>515</td>\n",
              "    </tr>\n",
              "  </tbody>\n",
              "</table>\n",
              "</div>"
            ],
            "text/plain": [
              "                              Text      Type     Score  BeginOffset  EndOffset\n",
              "0   Vermont 100 Mile Endurance Run     EVENT  0.998820            4         34\n",
              "1                      Vermont 100     EVENT  0.933523           37         48\n",
              "2                         100-mile  QUANTITY  0.999911           56         64\n",
              "3                           162 km  QUANTITY  0.998309           66         72\n",
              "4                             July      DATE  0.996884          110        114\n",
              "5               Silver Hill Meadow  LOCATION  0.999326          118        136\n",
              "6                     West Windsor  LOCATION  0.774987          140        152\n",
              "7                          Vermont  LOCATION  0.743249          154        161\n",
              "8                              one  QUANTITY  0.942272          170        173\n",
              "9              five 100-mile races  QUANTITY  0.825850          181        200\n",
              "10      Grand Slam of Ultrarunning     EVENT  0.977144          219        245\n",
              "11                             USA  LOCATION  0.998984          292        295\n",
              "12                      every year  QUANTITY  0.774690          494        504\n",
              "13                            1989      DATE  0.981319          511        515"
            ]
          },
          "metadata": {
            "tags": []
          }
        },
        {
          "output_type": "stream",
          "text": [
            "\n",
            "\n",
            "\n",
            "\n",
            "Ultra-Trail du Mont-Blanc\n"
          ],
          "name": "stdout"
        },
        {
          "output_type": "display_data",
          "data": {
            "text/html": [
              "<div>\n",
              "<style scoped>\n",
              "    .dataframe tbody tr th:only-of-type {\n",
              "        vertical-align: middle;\n",
              "    }\n",
              "\n",
              "    .dataframe tbody tr th {\n",
              "        vertical-align: top;\n",
              "    }\n",
              "\n",
              "    .dataframe thead th {\n",
              "        text-align: right;\n",
              "    }\n",
              "</style>\n",
              "<table border=\"1\" class=\"dataframe\">\n",
              "  <thead>\n",
              "    <tr style=\"text-align: right;\">\n",
              "      <th></th>\n",
              "      <th>Text</th>\n",
              "      <th>Type</th>\n",
              "      <th>Score</th>\n",
              "      <th>BeginOffset</th>\n",
              "      <th>EndOffset</th>\n",
              "    </tr>\n",
              "  </thead>\n",
              "  <tbody>\n",
              "    <tr>\n",
              "      <th>0</th>\n",
              "      <td>Ultra-Trail du Mont-Blanc</td>\n",
              "      <td>EVENT</td>\n",
              "      <td>0.909135</td>\n",
              "      <td>4</td>\n",
              "      <td>29</td>\n",
              "    </tr>\n",
              "    <tr>\n",
              "      <th>1</th>\n",
              "      <td>UTMB</td>\n",
              "      <td>EVENT</td>\n",
              "      <td>0.436939</td>\n",
              "      <td>31</td>\n",
              "      <td>35</td>\n",
              "    </tr>\n",
              "    <tr>\n",
              "      <th>2</th>\n",
              "      <td>single-stage</td>\n",
              "      <td>QUANTITY</td>\n",
              "      <td>0.699018</td>\n",
              "      <td>42</td>\n",
              "      <td>54</td>\n",
              "    </tr>\n",
              "    <tr>\n",
              "      <th>3</th>\n",
              "      <td>first</td>\n",
              "      <td>QUANTITY</td>\n",
              "      <td>0.894652</td>\n",
              "      <td>78</td>\n",
              "      <td>83</td>\n",
              "    </tr>\n",
              "    <tr>\n",
              "      <th>4</th>\n",
              "      <td>2003</td>\n",
              "      <td>DATE</td>\n",
              "      <td>0.999281</td>\n",
              "      <td>92</td>\n",
              "      <td>96</td>\n",
              "    </tr>\n",
              "    <tr>\n",
              "      <th>5</th>\n",
              "      <td>Ultra-Trail World Tour</td>\n",
              "      <td>EVENT</td>\n",
              "      <td>0.980149</td>\n",
              "      <td>118</td>\n",
              "      <td>140</td>\n",
              "    </tr>\n",
              "  </tbody>\n",
              "</table>\n",
              "</div>"
            ],
            "text/plain": [
              "                        Text      Type     Score  BeginOffset  EndOffset\n",
              "0  Ultra-Trail du Mont-Blanc     EVENT  0.909135            4         29\n",
              "1                       UTMB     EVENT  0.436939           31         35\n",
              "2               single-stage  QUANTITY  0.699018           42         54\n",
              "3                      first  QUANTITY  0.894652           78         83\n",
              "4                       2003      DATE  0.999281           92         96\n",
              "5     Ultra-Trail World Tour     EVENT  0.980149          118        140"
            ]
          },
          "metadata": {
            "tags": []
          }
        },
        {
          "output_type": "stream",
          "text": [
            "\n",
            "\n",
            "\n",
            "\n",
            "Western States Endurance Run\n"
          ],
          "name": "stdout"
        },
        {
          "output_type": "display_data",
          "data": {
            "text/html": [
              "<div>\n",
              "<style scoped>\n",
              "    .dataframe tbody tr th:only-of-type {\n",
              "        vertical-align: middle;\n",
              "    }\n",
              "\n",
              "    .dataframe tbody tr th {\n",
              "        vertical-align: top;\n",
              "    }\n",
              "\n",
              "    .dataframe thead th {\n",
              "        text-align: right;\n",
              "    }\n",
              "</style>\n",
              "<table border=\"1\" class=\"dataframe\">\n",
              "  <thead>\n",
              "    <tr style=\"text-align: right;\">\n",
              "      <th></th>\n",
              "      <th>Text</th>\n",
              "      <th>Type</th>\n",
              "      <th>Score</th>\n",
              "      <th>BeginOffset</th>\n",
              "      <th>EndOffset</th>\n",
              "    </tr>\n",
              "  </thead>\n",
              "  <tbody>\n",
              "    <tr>\n",
              "      <th>0</th>\n",
              "      <td>Western States Endurance Run</td>\n",
              "      <td>EVENT</td>\n",
              "      <td>0.986855</td>\n",
              "      <td>4</td>\n",
              "      <td>32</td>\n",
              "    </tr>\n",
              "    <tr>\n",
              "      <th>1</th>\n",
              "      <td>Western States 100</td>\n",
              "      <td>EVENT</td>\n",
              "      <td>0.995623</td>\n",
              "      <td>56</td>\n",
              "      <td>74</td>\n",
              "    </tr>\n",
              "    <tr>\n",
              "      <th>2</th>\n",
              "      <td>100-mile</td>\n",
              "      <td>QUANTITY</td>\n",
              "      <td>0.999477</td>\n",
              "      <td>81</td>\n",
              "      <td>89</td>\n",
              "    </tr>\n",
              "    <tr>\n",
              "      <th>3</th>\n",
              "      <td>161 km</td>\n",
              "      <td>QUANTITY</td>\n",
              "      <td>0.993769</td>\n",
              "      <td>91</td>\n",
              "      <td>97</td>\n",
              "    </tr>\n",
              "    <tr>\n",
              "      <th>4</th>\n",
              "      <td>California</td>\n",
              "      <td>LOCATION</td>\n",
              "      <td>0.997449</td>\n",
              "      <td>133</td>\n",
              "      <td>143</td>\n",
              "    </tr>\n",
              "    <tr>\n",
              "      <th>5</th>\n",
              "      <td>Sierra Nevada Mountains</td>\n",
              "      <td>LOCATION</td>\n",
              "      <td>0.969223</td>\n",
              "      <td>146</td>\n",
              "      <td>169</td>\n",
              "    </tr>\n",
              "    <tr>\n",
              "      <th>6</th>\n",
              "      <td>each year</td>\n",
              "      <td>QUANTITY</td>\n",
              "      <td>0.977766</td>\n",
              "      <td>177</td>\n",
              "      <td>186</td>\n",
              "    </tr>\n",
              "    <tr>\n",
              "      <th>7</th>\n",
              "      <td>last full weekend of June</td>\n",
              "      <td>DATE</td>\n",
              "      <td>0.912418</td>\n",
              "      <td>194</td>\n",
              "      <td>219</td>\n",
              "    </tr>\n",
              "    <tr>\n",
              "      <th>8</th>\n",
              "      <td>Squaw Valley</td>\n",
              "      <td>LOCATION</td>\n",
              "      <td>0.995626</td>\n",
              "      <td>256</td>\n",
              "      <td>268</td>\n",
              "    </tr>\n",
              "    <tr>\n",
              "      <th>9</th>\n",
              "      <td>Placer High School</td>\n",
              "      <td>ORGANIZATION</td>\n",
              "      <td>0.871898</td>\n",
              "      <td>300</td>\n",
              "      <td>318</td>\n",
              "    </tr>\n",
              "    <tr>\n",
              "      <th>10</th>\n",
              "      <td>Auburn, California</td>\n",
              "      <td>LOCATION</td>\n",
              "      <td>0.887590</td>\n",
              "      <td>328</td>\n",
              "      <td>346</td>\n",
              "    </tr>\n",
              "    <tr>\n",
              "      <th>11</th>\n",
              "      <td>18,090 feet</td>\n",
              "      <td>QUANTITY</td>\n",
              "      <td>0.999416</td>\n",
              "      <td>514</td>\n",
              "      <td>525</td>\n",
              "    </tr>\n",
              "    <tr>\n",
              "      <th>12</th>\n",
              "      <td>5500 m</td>\n",
              "      <td>QUANTITY</td>\n",
              "      <td>0.997436</td>\n",
              "      <td>527</td>\n",
              "      <td>533</td>\n",
              "    </tr>\n",
              "    <tr>\n",
              "      <th>13</th>\n",
              "      <td>22,970 feet</td>\n",
              "      <td>QUANTITY</td>\n",
              "      <td>0.999641</td>\n",
              "      <td>558</td>\n",
              "      <td>569</td>\n",
              "    </tr>\n",
              "    <tr>\n",
              "      <th>14</th>\n",
              "      <td>7000 m</td>\n",
              "      <td>QUANTITY</td>\n",
              "      <td>0.996793</td>\n",
              "      <td>571</td>\n",
              "      <td>577</td>\n",
              "    </tr>\n",
              "    <tr>\n",
              "      <th>15</th>\n",
              "      <td>5 a.m.</td>\n",
              "      <td>DATE</td>\n",
              "      <td>0.998907</td>\n",
              "      <td>671</td>\n",
              "      <td>677</td>\n",
              "    </tr>\n",
              "    <tr>\n",
              "      <th>16</th>\n",
              "      <td>30-hour</td>\n",
              "      <td>QUANTITY</td>\n",
              "      <td>0.997131</td>\n",
              "      <td>757</td>\n",
              "      <td>764</td>\n",
              "    </tr>\n",
              "    <tr>\n",
              "      <th>17</th>\n",
              "      <td>under 24 hours</td>\n",
              "      <td>QUANTITY</td>\n",
              "      <td>0.934422</td>\n",
              "      <td>860</td>\n",
              "      <td>874</td>\n",
              "    </tr>\n",
              "    <tr>\n",
              "      <th>18</th>\n",
              "      <td>Western States</td>\n",
              "      <td>EVENT</td>\n",
              "      <td>0.626518</td>\n",
              "      <td>909</td>\n",
              "      <td>923</td>\n",
              "    </tr>\n",
              "    <tr>\n",
              "      <th>19</th>\n",
              "      <td>100</td>\n",
              "      <td>TITLE</td>\n",
              "      <td>0.506463</td>\n",
              "      <td>924</td>\n",
              "      <td>927</td>\n",
              "    </tr>\n",
              "    <tr>\n",
              "      <th>20</th>\n",
              "      <td>Altra</td>\n",
              "      <td>ORGANIZATION</td>\n",
              "      <td>0.999119</td>\n",
              "      <td>944</td>\n",
              "      <td>949</td>\n",
              "    </tr>\n",
              "    <tr>\n",
              "      <th>21</th>\n",
              "      <td>Utah</td>\n",
              "      <td>LOCATION</td>\n",
              "      <td>0.767626</td>\n",
              "      <td>953</td>\n",
              "      <td>957</td>\n",
              "    </tr>\n",
              "    <tr>\n",
              "      <th>22</th>\n",
              "      <td>one of the five 100-mile races</td>\n",
              "      <td>QUANTITY</td>\n",
              "      <td>0.892114</td>\n",
              "      <td>992</td>\n",
              "      <td>1022</td>\n",
              "    </tr>\n",
              "    <tr>\n",
              "      <th>23</th>\n",
              "      <td>Grand Slam of Ultrarunning</td>\n",
              "      <td>EVENT</td>\n",
              "      <td>0.991239</td>\n",
              "      <td>1041</td>\n",
              "      <td>1067</td>\n",
              "    </tr>\n",
              "    <tr>\n",
              "      <th>24</th>\n",
              "      <td>Old Dominion 100</td>\n",
              "      <td>EVENT</td>\n",
              "      <td>0.999689</td>\n",
              "      <td>1093</td>\n",
              "      <td>1109</td>\n",
              "    </tr>\n",
              "    <tr>\n",
              "      <th>25</th>\n",
              "      <td>Vermont 100 Mile Endurance Run</td>\n",
              "      <td>EVENT</td>\n",
              "      <td>0.999111</td>\n",
              "      <td>1111</td>\n",
              "      <td>1141</td>\n",
              "    </tr>\n",
              "    <tr>\n",
              "      <th>26</th>\n",
              "      <td>Wasatch Front 100 Mile Endurance Run</td>\n",
              "      <td>EVENT</td>\n",
              "      <td>0.999471</td>\n",
              "      <td>1147</td>\n",
              "      <td>1183</td>\n",
              "    </tr>\n",
              "    <tr>\n",
              "      <th>27</th>\n",
              "      <td>Utah</td>\n",
              "      <td>LOCATION</td>\n",
              "      <td>0.999348</td>\n",
              "      <td>1187</td>\n",
              "      <td>1191</td>\n",
              "    </tr>\n",
              "    <tr>\n",
              "      <th>28</th>\n",
              "      <td>Leadville Trail 100</td>\n",
              "      <td>EVENT</td>\n",
              "      <td>0.996937</td>\n",
              "      <td>1201</td>\n",
              "      <td>1220</td>\n",
              "    </tr>\n",
              "    <tr>\n",
              "      <th>29</th>\n",
              "      <td>Colorado</td>\n",
              "      <td>LOCATION</td>\n",
              "      <td>0.999481</td>\n",
              "      <td>1224</td>\n",
              "      <td>1232</td>\n",
              "    </tr>\n",
              "  </tbody>\n",
              "</table>\n",
              "</div>"
            ],
            "text/plain": [
              "                                    Text          Type  ...  BeginOffset  EndOffset\n",
              "0           Western States Endurance Run         EVENT  ...            4         32\n",
              "1                     Western States 100         EVENT  ...           56         74\n",
              "2                               100-mile      QUANTITY  ...           81         89\n",
              "3                                 161 km      QUANTITY  ...           91         97\n",
              "4                             California      LOCATION  ...          133        143\n",
              "5                Sierra Nevada Mountains      LOCATION  ...          146        169\n",
              "6                              each year      QUANTITY  ...          177        186\n",
              "7              last full weekend of June          DATE  ...          194        219\n",
              "8                           Squaw Valley      LOCATION  ...          256        268\n",
              "9                     Placer High School  ORGANIZATION  ...          300        318\n",
              "10                    Auburn, California      LOCATION  ...          328        346\n",
              "11                           18,090 feet      QUANTITY  ...          514        525\n",
              "12                                5500 m      QUANTITY  ...          527        533\n",
              "13                           22,970 feet      QUANTITY  ...          558        569\n",
              "14                                7000 m      QUANTITY  ...          571        577\n",
              "15                                5 a.m.          DATE  ...          671        677\n",
              "16                               30-hour      QUANTITY  ...          757        764\n",
              "17                        under 24 hours      QUANTITY  ...          860        874\n",
              "18                        Western States         EVENT  ...          909        923\n",
              "19                                   100         TITLE  ...          924        927\n",
              "20                                 Altra  ORGANIZATION  ...          944        949\n",
              "21                                  Utah      LOCATION  ...          953        957\n",
              "22        one of the five 100-mile races      QUANTITY  ...          992       1022\n",
              "23            Grand Slam of Ultrarunning         EVENT  ...         1041       1067\n",
              "24                      Old Dominion 100         EVENT  ...         1093       1109\n",
              "25        Vermont 100 Mile Endurance Run         EVENT  ...         1111       1141\n",
              "26  Wasatch Front 100 Mile Endurance Run         EVENT  ...         1147       1183\n",
              "27                                  Utah      LOCATION  ...         1187       1191\n",
              "28                   Leadville Trail 100         EVENT  ...         1201       1220\n",
              "29                              Colorado      LOCATION  ...         1224       1232\n",
              "\n",
              "[30 rows x 5 columns]"
            ]
          },
          "metadata": {
            "tags": []
          }
        },
        {
          "output_type": "stream",
          "text": [
            "\n",
            "\n",
            "\n",
            "\n",
            "Hardrock Hundred Mile Endurance Run\n"
          ],
          "name": "stdout"
        },
        {
          "output_type": "display_data",
          "data": {
            "text/html": [
              "<div>\n",
              "<style scoped>\n",
              "    .dataframe tbody tr th:only-of-type {\n",
              "        vertical-align: middle;\n",
              "    }\n",
              "\n",
              "    .dataframe tbody tr th {\n",
              "        vertical-align: top;\n",
              "    }\n",
              "\n",
              "    .dataframe thead th {\n",
              "        text-align: right;\n",
              "    }\n",
              "</style>\n",
              "<table border=\"1\" class=\"dataframe\">\n",
              "  <thead>\n",
              "    <tr style=\"text-align: right;\">\n",
              "      <th></th>\n",
              "      <th>Text</th>\n",
              "      <th>Type</th>\n",
              "      <th>Score</th>\n",
              "      <th>BeginOffset</th>\n",
              "      <th>EndOffset</th>\n",
              "    </tr>\n",
              "  </thead>\n",
              "  <tbody>\n",
              "    <tr>\n",
              "      <th>0</th>\n",
              "      <td>Hardrock Hundred Mile Endurance Run</td>\n",
              "      <td>EVENT</td>\n",
              "      <td>0.997111</td>\n",
              "      <td>4</td>\n",
              "      <td>39</td>\n",
              "    </tr>\n",
              "    <tr>\n",
              "      <th>1</th>\n",
              "      <td>100.5 miles</td>\n",
              "      <td>QUANTITY</td>\n",
              "      <td>0.999517</td>\n",
              "      <td>60</td>\n",
              "      <td>71</td>\n",
              "    </tr>\n",
              "    <tr>\n",
              "      <th>2</th>\n",
              "      <td>161.7 km</td>\n",
              "      <td>QUANTITY</td>\n",
              "      <td>0.999533</td>\n",
              "      <td>73</td>\n",
              "      <td>81</td>\n",
              "    </tr>\n",
              "    <tr>\n",
              "      <th>3</th>\n",
              "      <td>33,000 feet</td>\n",
              "      <td>QUANTITY</td>\n",
              "      <td>0.999701</td>\n",
              "      <td>99</td>\n",
              "      <td>110</td>\n",
              "    </tr>\n",
              "    <tr>\n",
              "      <th>4</th>\n",
              "      <td>10,000 m</td>\n",
              "      <td>QUANTITY</td>\n",
              "      <td>0.998688</td>\n",
              "      <td>112</td>\n",
              "      <td>120</td>\n",
              "    </tr>\n",
              "    <tr>\n",
              "      <th>5</th>\n",
              "      <td>over 11,000 feet</td>\n",
              "      <td>QUANTITY</td>\n",
              "      <td>0.801070</td>\n",
              "      <td>158</td>\n",
              "      <td>174</td>\n",
              "    </tr>\n",
              "    <tr>\n",
              "      <th>6</th>\n",
              "      <td>3,400 m</td>\n",
              "      <td>QUANTITY</td>\n",
              "      <td>0.998977</td>\n",
              "      <td>176</td>\n",
              "      <td>183</td>\n",
              "    </tr>\n",
              "    <tr>\n",
              "      <th>7</th>\n",
              "      <td>4WD</td>\n",
              "      <td>OTHER</td>\n",
              "      <td>0.496832</td>\n",
              "      <td>223</td>\n",
              "      <td>226</td>\n",
              "    </tr>\n",
              "    <tr>\n",
              "      <th>8</th>\n",
              "      <td>Southern Colorado</td>\n",
              "      <td>LOCATION</td>\n",
              "      <td>0.983297</td>\n",
              "      <td>268</td>\n",
              "      <td>285</td>\n",
              "    </tr>\n",
              "    <tr>\n",
              "      <th>9</th>\n",
              "      <td>San Juan Range, USA</td>\n",
              "      <td>LOCATION</td>\n",
              "      <td>0.886801</td>\n",
              "      <td>288</td>\n",
              "      <td>307</td>\n",
              "    </tr>\n",
              "    <tr>\n",
              "      <th>10</th>\n",
              "      <td>Dale Garland</td>\n",
              "      <td>PERSON</td>\n",
              "      <td>0.999832</td>\n",
              "      <td>474</td>\n",
              "      <td>486</td>\n",
              "    </tr>\n",
              "  </tbody>\n",
              "</table>\n",
              "</div>"
            ],
            "text/plain": [
              "                                   Text      Type  ...  BeginOffset  EndOffset\n",
              "0   Hardrock Hundred Mile Endurance Run     EVENT  ...            4         39\n",
              "1                           100.5 miles  QUANTITY  ...           60         71\n",
              "2                              161.7 km  QUANTITY  ...           73         81\n",
              "3                           33,000 feet  QUANTITY  ...           99        110\n",
              "4                              10,000 m  QUANTITY  ...          112        120\n",
              "5                      over 11,000 feet  QUANTITY  ...          158        174\n",
              "6                               3,400 m  QUANTITY  ...          176        183\n",
              "7                                   4WD     OTHER  ...          223        226\n",
              "8                     Southern Colorado  LOCATION  ...          268        285\n",
              "9                   San Juan Range, USA  LOCATION  ...          288        307\n",
              "10                         Dale Garland    PERSON  ...          474        486\n",
              "\n",
              "[11 rows x 5 columns]"
            ]
          },
          "metadata": {
            "tags": []
          }
        },
        {
          "output_type": "stream",
          "text": [
            "\n",
            "\n",
            "\n",
            "\n"
          ],
          "name": "stdout"
        }
      ]
    },
    {
      "cell_type": "markdown",
      "metadata": {
        "id": "GdfF73AbBpaB",
        "colab_type": "text"
      },
      "source": [
        "# Lambda Function Test\n",
        "Now that we have the basic functions down, we will look at how the Lamdba functions will actually process and output the data."
      ]
    },
    {
      "cell_type": "markdown",
      "metadata": {
        "id": "7B6vl2j2H6Mq",
        "colab_type": "text"
      },
      "source": [
        "## Process Payload"
      ]
    },
    {
      "cell_type": "markdown",
      "metadata": {
        "id": "iPqB5Ci1IBY2",
        "colab_type": "text"
      },
      "source": [
        "The following payload is an example event with one race."
      ]
    },
    {
      "cell_type": "code",
      "metadata": {
        "id": "-b7I-o8iH9C7",
        "colab_type": "code",
        "colab": {}
      },
      "source": [
        "event_1 = {\n",
        "  \"Records\": [\n",
        "    {\n",
        "      \"messageId\": \"19dd0b57-b21e-4ac1-bd88-01bbb068cb78\",\n",
        "      \"receiptHandle\": \"MessageReceiptHandle\",\n",
        "      \"body\": {\n",
        "          \"Races\": \"Western States Endurance Run\"\n",
        "      },\n",
        "      \"attributes\": {\n",
        "        \"ApproximateReceiveCount\": \"1\",\n",
        "        \"SentTimestamp\": \"1523232000000\",\n",
        "        \"SenderId\": \"123456789012\",\n",
        "        \"ApproximateFirstReceiveTimestamp\": \"1523232000001\"\n",
        "      },\n",
        "      \"messageAttributes\": {},\n",
        "      \"md5OfBody\": \"7b270e59b47ff90a553787216d55d91d\",\n",
        "      \"eventSource\": \"aws:sqs\",\n",
        "      \"eventSourceARN\": \"arn:aws:sqs:us-east-1:123456789012:MyQueue\",\n",
        "      \"awsRegion\": \"us-east-1\"\n",
        "    }\n",
        "  ]\n",
        "}"
      ],
      "execution_count": 0,
      "outputs": []
    },
    {
      "cell_type": "markdown",
      "metadata": {
        "id": "FWCmuZlalfVD",
        "colab_type": "text"
      },
      "source": [
        "The following payload is an example event with two races."
      ]
    },
    {
      "cell_type": "code",
      "metadata": {
        "id": "kuKqw47zljLL",
        "colab_type": "code",
        "colab": {}
      },
      "source": [
        "event_2 = {\n",
        "  \"Records\": [\n",
        "    {\n",
        "      \"messageId\": \"19dd0b57-b21e-4ac1-bd88-01bbb068cb78\",\n",
        "      \"receiptHandle\": \"MessageReceiptHandle\",\n",
        "      \"body\": {\n",
        "          \"Races\": \"Western States Endurance Run\"\n",
        "      },\n",
        "      \"attributes\": {\n",
        "        \"ApproximateReceiveCount\": \"1\",\n",
        "        \"SentTimestamp\": \"1523232000000\",\n",
        "        \"SenderId\": \"123456789012\",\n",
        "        \"ApproximateFirstReceiveTimestamp\": \"1523232000001\"\n",
        "      },\n",
        "      \"messageAttributes\": {},\n",
        "      \"md5OfBody\": \"7b270e59b47ff90a553787216d55d91d\",\n",
        "      \"eventSource\": \"aws:sqs\",\n",
        "      \"eventSourceARN\": \"arn:aws:sqs:us-east-1:123456789012:MyQueue\",\n",
        "      \"awsRegion\": \"us-east-1\"\n",
        "    },\n",
        "    {\n",
        "      \"messageId\": \"19dd0b57-b21e-4ac1-bd88-01bbb068cb78\",\n",
        "      \"receiptHandle\": \"MessageReceiptHandle\",\n",
        "      \"body\": {\n",
        "          \"Races\": \"Barkley Marathons\"\n",
        "      },\n",
        "      \"attributes\": {\n",
        "        \"ApproximateReceiveCount\": \"1\",\n",
        "        \"SentTimestamp\": \"1523232000000\",\n",
        "        \"SenderId\": \"123456789012\",\n",
        "        \"ApproximateFirstReceiveTimestamp\": \"1523232000001\"\n",
        "      },\n",
        "      \"messageAttributes\": {},\n",
        "      \"md5OfBody\": \"7b270e59b47ff90a553787216d55d91d\",\n",
        "      \"eventSource\": \"aws:sqs\",\n",
        "      \"eventSourceARN\": \"arn:aws:sqs:us-east-1:123456789012:MyQueue\",\n",
        "      \"awsRegion\": \"us-east-1\"\n",
        "    }   \n",
        "  ]\n",
        "}"
      ],
      "execution_count": 0,
      "outputs": []
    },
    {
      "cell_type": "markdown",
      "metadata": {
        "id": "5_UNqGLVlrq8",
        "colab_type": "text"
      },
      "source": [
        "For downstream testing, we define the event as either a one or two race event."
      ]
    },
    {
      "cell_type": "code",
      "metadata": {
        "id": "dumIIc4ZlwbK",
        "colab_type": "code",
        "colab": {}
      },
      "source": [
        "event = event_1"
      ],
      "execution_count": 0,
      "outputs": []
    },
    {
      "cell_type": "markdown",
      "metadata": {
        "id": "SFF7OdMokt01",
        "colab_type": "text"
      },
      "source": [
        "We check the type of object this event is."
      ]
    },
    {
      "cell_type": "code",
      "metadata": {
        "id": "rknkPJ_Jh5-b",
        "colab_type": "code",
        "outputId": "309624ac-0ad8-4596-ea15-901ed5d3190d",
        "colab": {
          "base_uri": "https://localhost:8080/",
          "height": 34
        }
      },
      "source": [
        "type(event)"
      ],
      "execution_count": 25,
      "outputs": [
        {
          "output_type": "execute_result",
          "data": {
            "text/plain": [
              "dict"
            ]
          },
          "metadata": {
            "tags": []
          },
          "execution_count": 25
        }
      ]
    },
    {
      "cell_type": "markdown",
      "metadata": {
        "id": "r7CuJVSUk19W",
        "colab_type": "text"
      },
      "source": [
        "## Function Flow\n",
        "We will now run though each function to verify correct process flow. We will not include the logging calls."
      ]
    },
    {
      "cell_type": "markdown",
      "metadata": {
        "id": "KkmLG8QZlErh",
        "colab_type": "text"
      },
      "source": [
        "### Lambda Handler For Loop\n",
        "The following code chuck is the FOR loop at the start of the lambda handle event. This loop creates a list of race names contained in the event."
      ]
    },
    {
      "cell_type": "code",
      "metadata": {
        "id": "33TM6oPTgmOF",
        "colab_type": "code",
        "outputId": "3c19f120-b022-48c3-f406-bc497e94d50a",
        "colab": {
          "base_uri": "https://localhost:8080/",
          "height": 68
        }
      },
      "source": [
        "race = []\n",
        "for record in event['Records']:\n",
        "  #print(record)\n",
        "  body = record['body']\n",
        "  print(body)\n",
        "  race_name = body['Races']\n",
        "  print(race_name)\n",
        "\n",
        "  race.append(race_name)\n",
        "  print(race)"
      ],
      "execution_count": 26,
      "outputs": [
        {
          "output_type": "stream",
          "text": [
            "{'Races': 'Western States Endurance Run'}\n",
            "Western States Endurance Run\n",
            "['Western States Endurance Run']\n"
          ],
          "name": "stdout"
        }
      ]
    },
    {
      "cell_type": "markdown",
      "metadata": {
        "id": "-6LCpyikm0JX",
        "colab_type": "text"
      },
      "source": [
        "### Generate Wikipedia Snippet\n",
        "'The next code chunk takes the list of races as an input. It then generates the wikipedia entry for each race, and populates a dictionary with a key/value pair of race and race wikipedia entry.\n"
      ]
    },
    {
      "cell_type": "code",
      "metadata": {
        "id": "LvjYnvXkjN1R",
        "colab_type": "code",
        "colab": {}
      },
      "source": [
        "def races_to_wikipedia(race_list):\n",
        "    race_dict = {}\n",
        "    wikipedia_snippit = []\n",
        "    n = 0\n",
        "    for race in race_list:\n",
        "        wikipedia_snippit.append(wikipedia.summary(race, sentences=1))\n",
        "        race_dict.update({race:wikipedia_snippit[n]})\n",
        "        n += 1\n",
        "    return race_dict"
      ],
      "execution_count": 0,
      "outputs": []
    },
    {
      "cell_type": "code",
      "metadata": {
        "id": "I3pNTIl_jQsw",
        "colab_type": "code",
        "outputId": "f4e5b087-f9fb-4c59-d948-a3374fff2beb",
        "colab": {
          "base_uri": "https://localhost:8080/",
          "height": 119
        }
      },
      "source": [
        "race_dict = races_to_wikipedia(race)\n",
        "pprint.pprint(race_dict)"
      ],
      "execution_count": 28,
      "outputs": [
        {
          "output_type": "stream",
          "text": [
            "{'Western States Endurance Run': 'The Western States Endurance Run, known '\n",
            "                                 'commonly as the Western States 100, is a '\n",
            "                                 '100-mile (161 km) ultramarathon that takes '\n",
            "                                 \"place on California's Sierra Nevada \"\n",
            "                                 'Mountains trails each year on the last full '\n",
            "                                 'weekend of June.'}\n"
          ],
          "name": "stdout"
        }
      ]
    },
    {
      "cell_type": "markdown",
      "metadata": {
        "id": "tT9c3wymoo2L",
        "colab_type": "text"
      },
      "source": [
        "### Perform Entity Analysis on the Wikipedia Snippet\n",
        "The next code chunk takes the race/wiki dictionary and performs entity analysis on the wikiepdia entry. The chunk then returns a dictionary with key/value pair of race and entity dictionary.\n"
      ]
    },
    {
      "cell_type": "code",
      "metadata": {
        "id": "Gk2VKV-2kdKn",
        "colab_type": "code",
        "colab": {}
      },
      "source": [
        "def entity_detect(race_dict):\n",
        "    entity_dict = {}\n",
        "    # Extract Entities from Wikipedia Snippet\n",
        "    for race in race_dict:\n",
        "        entry_summary = race_dict[race]\n",
        "        payload = comprehend.detect_entities(Text = entry_summary, \n",
        "                                             LanguageCode = 'en')\n",
        "        entity = payload['Entities']\n",
        "        entity_dict.update({race:entity})\n",
        "        \n",
        "    return entity_dict"
      ],
      "execution_count": 0,
      "outputs": []
    },
    {
      "cell_type": "code",
      "metadata": {
        "id": "uY_mkqFikqkU",
        "colab_type": "code",
        "outputId": "66a0184d-3eb7-4086-a58a-ab50818aa364",
        "colab": {
          "base_uri": "https://localhost:8080/",
          "height": 697
        }
      },
      "source": [
        "entity_dict = entity_detect(race_dict)\n",
        "pprint.pprint(entity_dict)"
      ],
      "execution_count": 30,
      "outputs": [
        {
          "output_type": "stream",
          "text": [
            "{'Western States Endurance Run': [{'BeginOffset': 4,\n",
            "                                   'EndOffset': 32,\n",
            "                                   'Score': 0.9937021136283875,\n",
            "                                   'Text': 'Western States Endurance Run',\n",
            "                                   'Type': 'EVENT'},\n",
            "                                  {'BeginOffset': 56,\n",
            "                                   'EndOffset': 74,\n",
            "                                   'Score': 0.9960070848464966,\n",
            "                                   'Text': 'Western States 100',\n",
            "                                   'Type': 'EVENT'},\n",
            "                                  {'BeginOffset': 81,\n",
            "                                   'EndOffset': 89,\n",
            "                                   'Score': 0.999893844127655,\n",
            "                                   'Text': '100-mile',\n",
            "                                   'Type': 'QUANTITY'},\n",
            "                                  {'BeginOffset': 91,\n",
            "                                   'EndOffset': 97,\n",
            "                                   'Score': 0.9989891052246094,\n",
            "                                   'Text': '161 km',\n",
            "                                   'Type': 'QUANTITY'},\n",
            "                                  {'BeginOffset': 133,\n",
            "                                   'EndOffset': 143,\n",
            "                                   'Score': 0.9979168772697449,\n",
            "                                   'Text': 'California',\n",
            "                                   'Type': 'LOCATION'},\n",
            "                                  {'BeginOffset': 146,\n",
            "                                   'EndOffset': 169,\n",
            "                                   'Score': 0.9861451387405396,\n",
            "                                   'Text': 'Sierra Nevada Mountains',\n",
            "                                   'Type': 'LOCATION'},\n",
            "                                  {'BeginOffset': 177,\n",
            "                                   'EndOffset': 186,\n",
            "                                   'Score': 0.9886414408683777,\n",
            "                                   'Text': 'each year',\n",
            "                                   'Type': 'QUANTITY'},\n",
            "                                  {'BeginOffset': 194,\n",
            "                                   'EndOffset': 219,\n",
            "                                   'Score': 0.899183988571167,\n",
            "                                   'Text': 'last full weekend of June',\n",
            "                                   'Type': 'DATE'}]}\n"
          ],
          "name": "stdout"
        }
      ]
    },
    {
      "cell_type": "markdown",
      "metadata": {
        "id": "uzWlj6-SqFP1",
        "colab_type": "text"
      },
      "source": [
        "### Write Entity Analysis to  S3 Bucket\n",
        "The following code chuck will take the dictionary of race/entity reports and write them to an S3 bucket as a CSV file."
      ]
    },
    {
      "cell_type": "code",
      "metadata": {
        "id": "FBY4DdbrqEc3",
        "colab_type": "code",
        "colab": {}
      },
      "source": [
        "def write_s3(race_dict_ent, bucket):\n",
        "    \"\"\"Write S3 Bucket\"\"\"\n",
        "    \n",
        "    for race in race_dict_ent:\n",
        "        df = pd.DataFrame.from_dict(race_dict_ent[race])\n",
        "        \n",
        "        # Re-order Columns\n",
        "        df = df[['Text', 'Type', 'Score', 'BeginOffset', 'EndOffset']]\n",
        "        \n",
        "        # Convert Daataframe to CSV\n",
        "        csv_buffer = io.StringIO()\n",
        "        df.to_csv(csv_buffer, index = False)\n",
        "\n",
        "        race = race.lower().replace(' ', '_')\n",
        "\n",
        "        # Send to S3\n",
        "        s3_resource = session.resource('s3')\n",
        "        res = s3_resource.Object(bucket, f'entity_{race}.csv').\\\n",
        "            put(Body=csv_buffer.getvalue())\n",
        "        #LOG.info(f\"result of write name: {race} to bucket: {bucket} with:\\n {res}\")\n"
      ],
      "execution_count": 0,
      "outputs": []
    },
    {
      "cell_type": "code",
      "metadata": {
        "id": "DRXcvyDf2IAK",
        "colab_type": "code",
        "colab": {}
      },
      "source": [
        "bucket = \"dsba-6190-project4-serverless-data-engineering-pipeline\"\n",
        "\n",
        "write_s3(entity_dict, bucket)"
      ],
      "execution_count": 0,
      "outputs": []
    }
  ]
}